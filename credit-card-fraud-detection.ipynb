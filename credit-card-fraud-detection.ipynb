{
 "cells": [
  {
   "cell_type": "markdown",
   "id": "e3b37cf7",
   "metadata": {
    "papermill": {
     "duration": 0.012192,
     "end_time": "2022-07-08T04:17:05.675056",
     "exception": false,
     "start_time": "2022-07-08T04:17:05.662864",
     "status": "completed"
    },
    "tags": []
   },
   "source": [
    "In the Application Data Set, we have attributes such as IncomeTotal,AMTAPPLICATION,AMT CREDIT, and approximately 122 Columns. The interesting thing is that if you want to see patterns and variations, we find out the SK_ID_CURR of creditcard fraud detection not SK_ID_CURR creditcard fraud detection."
   ]
  },
  {
   "cell_type": "markdown",
   "id": "8cdad317",
   "metadata": {
    "papermill": {
     "duration": 0.014405,
     "end_time": "2022-07-08T04:17:05.705483",
     "exception": false,
     "start_time": "2022-07-08T04:17:05.691078",
     "status": "completed"
    },
    "tags": []
   },
   "source": [
    "**Importing the necessary libraries**"
   ]
  },
  {
   "cell_type": "code",
   "execution_count": 1,
   "id": "5966f0e1",
   "metadata": {
    "execution": {
     "iopub.execute_input": "2022-07-08T04:17:05.734155Z",
     "iopub.status.busy": "2022-07-08T04:17:05.733572Z",
     "iopub.status.idle": "2022-07-08T04:17:07.283748Z",
     "shell.execute_reply": "2022-07-08T04:17:07.282618Z"
    },
    "papermill": {
     "duration": 1.569901,
     "end_time": "2022-07-08T04:17:07.286978",
     "exception": false,
     "start_time": "2022-07-08T04:17:05.717077",
     "status": "completed"
    },
    "tags": []
   },
   "outputs": [],
   "source": [
    "# data analysis and wrangling\n",
    "import pandas as pd\n",
    "import numpy as np\n",
    "import random as rnd\n",
    "\n",
    "# visualization\n",
    "import seaborn as sns\n",
    "import matplotlib.pyplot as plt\n",
    "%matplotlib inline\n",
    "from sklearn.model_selection import train_test_split\n",
    "from sklearn.preprocessing import LabelEncoder\n",
    "#machine learning\n",
    "from sklearn.ensemble import RandomForestClassifier\n",
    "from sklearn.linear_model import LogisticRegression\n",
    "from sklearn.svm import SVC, LinearSVC"
   ]
  },
  {
   "cell_type": "markdown",
   "id": "2098fac8",
   "metadata": {
    "papermill": {
     "duration": 0.010564,
     "end_time": "2022-07-08T04:17:07.308277",
     "exception": false,
     "start_time": "2022-07-08T04:17:07.297713",
     "status": "completed"
    },
    "tags": []
   },
   "source": [
    "**Load the DataSet**"
   ]
  },
  {
   "cell_type": "code",
   "execution_count": 2,
   "id": "57597be3",
   "metadata": {
    "execution": {
     "iopub.execute_input": "2022-07-08T04:17:07.332572Z",
     "iopub.status.busy": "2022-07-08T04:17:07.331529Z",
     "iopub.status.idle": "2022-07-08T04:17:13.202374Z",
     "shell.execute_reply": "2022-07-08T04:17:13.201301Z"
    },
    "id": "BuObPpqT7t3C",
    "papermill": {
     "duration": 5.885666,
     "end_time": "2022-07-08T04:17:13.204868",
     "exception": false,
     "start_time": "2022-07-08T04:17:07.319202",
     "status": "completed"
    },
    "tags": []
   },
   "outputs": [],
   "source": [
    "df=pd.read_csv('../input/credit-card/application_data.csv')"
   ]
  },
  {
   "cell_type": "markdown",
   "id": "5ab4e270",
   "metadata": {
    "papermill": {
     "duration": 0.010111,
     "end_time": "2022-07-08T04:17:13.225955",
     "exception": false,
     "start_time": "2022-07-08T04:17:13.215844",
     "status": "completed"
    },
    "tags": []
   },
   "source": [
    "**EDA**"
   ]
  },
  {
   "cell_type": "code",
   "execution_count": 3,
   "id": "89dd7fd0",
   "metadata": {
    "execution": {
     "iopub.execute_input": "2022-07-08T04:17:13.249152Z",
     "iopub.status.busy": "2022-07-08T04:17:13.248489Z",
     "iopub.status.idle": "2022-07-08T04:17:13.282642Z",
     "shell.execute_reply": "2022-07-08T04:17:13.281522Z"
    },
    "id": "6cViZDTmemb4",
    "outputId": "d9e219fe-48a3-4952-c704-d75247d5d267",
    "papermill": {
     "duration": 0.048325,
     "end_time": "2022-07-08T04:17:13.284847",
     "exception": false,
     "start_time": "2022-07-08T04:17:13.236522",
     "status": "completed"
    },
    "tags": []
   },
   "outputs": [
    {
     "data": {
      "text/html": [
       "<div>\n",
       "<style scoped>\n",
       "    .dataframe tbody tr th:only-of-type {\n",
       "        vertical-align: middle;\n",
       "    }\n",
       "\n",
       "    .dataframe tbody tr th {\n",
       "        vertical-align: top;\n",
       "    }\n",
       "\n",
       "    .dataframe thead th {\n",
       "        text-align: right;\n",
       "    }\n",
       "</style>\n",
       "<table border=\"1\" class=\"dataframe\">\n",
       "  <thead>\n",
       "    <tr style=\"text-align: right;\">\n",
       "      <th></th>\n",
       "      <th>SK_ID_CURR</th>\n",
       "      <th>TARGET</th>\n",
       "      <th>NAME_CONTRACT_TYPE</th>\n",
       "      <th>CODE_GENDER</th>\n",
       "      <th>FLAG_OWN_CAR</th>\n",
       "      <th>FLAG_OWN_REALTY</th>\n",
       "      <th>CNT_CHILDREN</th>\n",
       "      <th>AMT_INCOME_TOTAL</th>\n",
       "      <th>AMT_CREDIT</th>\n",
       "      <th>AMT_ANNUITY</th>\n",
       "      <th>...</th>\n",
       "      <th>FLAG_DOCUMENT_18</th>\n",
       "      <th>FLAG_DOCUMENT_19</th>\n",
       "      <th>FLAG_DOCUMENT_20</th>\n",
       "      <th>FLAG_DOCUMENT_21</th>\n",
       "      <th>AMT_REQ_CREDIT_BUREAU_HOUR</th>\n",
       "      <th>AMT_REQ_CREDIT_BUREAU_DAY</th>\n",
       "      <th>AMT_REQ_CREDIT_BUREAU_WEEK</th>\n",
       "      <th>AMT_REQ_CREDIT_BUREAU_MON</th>\n",
       "      <th>AMT_REQ_CREDIT_BUREAU_QRT</th>\n",
       "      <th>AMT_REQ_CREDIT_BUREAU_YEAR</th>\n",
       "    </tr>\n",
       "  </thead>\n",
       "  <tbody>\n",
       "    <tr>\n",
       "      <th>0</th>\n",
       "      <td>100002</td>\n",
       "      <td>1</td>\n",
       "      <td>Cash loans</td>\n",
       "      <td>M</td>\n",
       "      <td>N</td>\n",
       "      <td>Y</td>\n",
       "      <td>0</td>\n",
       "      <td>202500.0</td>\n",
       "      <td>406597.5</td>\n",
       "      <td>24700.5</td>\n",
       "      <td>...</td>\n",
       "      <td>0</td>\n",
       "      <td>0</td>\n",
       "      <td>0</td>\n",
       "      <td>0</td>\n",
       "      <td>0.0</td>\n",
       "      <td>0.0</td>\n",
       "      <td>0.0</td>\n",
       "      <td>0.0</td>\n",
       "      <td>0.0</td>\n",
       "      <td>1.0</td>\n",
       "    </tr>\n",
       "    <tr>\n",
       "      <th>1</th>\n",
       "      <td>100003</td>\n",
       "      <td>0</td>\n",
       "      <td>Cash loans</td>\n",
       "      <td>F</td>\n",
       "      <td>N</td>\n",
       "      <td>N</td>\n",
       "      <td>0</td>\n",
       "      <td>270000.0</td>\n",
       "      <td>1293502.5</td>\n",
       "      <td>35698.5</td>\n",
       "      <td>...</td>\n",
       "      <td>0</td>\n",
       "      <td>0</td>\n",
       "      <td>0</td>\n",
       "      <td>0</td>\n",
       "      <td>0.0</td>\n",
       "      <td>0.0</td>\n",
       "      <td>0.0</td>\n",
       "      <td>0.0</td>\n",
       "      <td>0.0</td>\n",
       "      <td>0.0</td>\n",
       "    </tr>\n",
       "    <tr>\n",
       "      <th>2</th>\n",
       "      <td>100004</td>\n",
       "      <td>0</td>\n",
       "      <td>Revolving loans</td>\n",
       "      <td>M</td>\n",
       "      <td>Y</td>\n",
       "      <td>Y</td>\n",
       "      <td>0</td>\n",
       "      <td>67500.0</td>\n",
       "      <td>135000.0</td>\n",
       "      <td>6750.0</td>\n",
       "      <td>...</td>\n",
       "      <td>0</td>\n",
       "      <td>0</td>\n",
       "      <td>0</td>\n",
       "      <td>0</td>\n",
       "      <td>0.0</td>\n",
       "      <td>0.0</td>\n",
       "      <td>0.0</td>\n",
       "      <td>0.0</td>\n",
       "      <td>0.0</td>\n",
       "      <td>0.0</td>\n",
       "    </tr>\n",
       "    <tr>\n",
       "      <th>3</th>\n",
       "      <td>100006</td>\n",
       "      <td>0</td>\n",
       "      <td>Cash loans</td>\n",
       "      <td>F</td>\n",
       "      <td>N</td>\n",
       "      <td>Y</td>\n",
       "      <td>0</td>\n",
       "      <td>135000.0</td>\n",
       "      <td>312682.5</td>\n",
       "      <td>29686.5</td>\n",
       "      <td>...</td>\n",
       "      <td>0</td>\n",
       "      <td>0</td>\n",
       "      <td>0</td>\n",
       "      <td>0</td>\n",
       "      <td>NaN</td>\n",
       "      <td>NaN</td>\n",
       "      <td>NaN</td>\n",
       "      <td>NaN</td>\n",
       "      <td>NaN</td>\n",
       "      <td>NaN</td>\n",
       "    </tr>\n",
       "    <tr>\n",
       "      <th>4</th>\n",
       "      <td>100007</td>\n",
       "      <td>0</td>\n",
       "      <td>Cash loans</td>\n",
       "      <td>M</td>\n",
       "      <td>N</td>\n",
       "      <td>Y</td>\n",
       "      <td>0</td>\n",
       "      <td>121500.0</td>\n",
       "      <td>513000.0</td>\n",
       "      <td>21865.5</td>\n",
       "      <td>...</td>\n",
       "      <td>0</td>\n",
       "      <td>0</td>\n",
       "      <td>0</td>\n",
       "      <td>0</td>\n",
       "      <td>0.0</td>\n",
       "      <td>0.0</td>\n",
       "      <td>0.0</td>\n",
       "      <td>0.0</td>\n",
       "      <td>0.0</td>\n",
       "      <td>0.0</td>\n",
       "    </tr>\n",
       "  </tbody>\n",
       "</table>\n",
       "<p>5 rows × 122 columns</p>\n",
       "</div>"
      ],
      "text/plain": [
       "   SK_ID_CURR  TARGET NAME_CONTRACT_TYPE CODE_GENDER FLAG_OWN_CAR  \\\n",
       "0      100002       1         Cash loans           M            N   \n",
       "1      100003       0         Cash loans           F            N   \n",
       "2      100004       0    Revolving loans           M            Y   \n",
       "3      100006       0         Cash loans           F            N   \n",
       "4      100007       0         Cash loans           M            N   \n",
       "\n",
       "  FLAG_OWN_REALTY  CNT_CHILDREN  AMT_INCOME_TOTAL  AMT_CREDIT  AMT_ANNUITY  \\\n",
       "0               Y             0          202500.0    406597.5      24700.5   \n",
       "1               N             0          270000.0   1293502.5      35698.5   \n",
       "2               Y             0           67500.0    135000.0       6750.0   \n",
       "3               Y             0          135000.0    312682.5      29686.5   \n",
       "4               Y             0          121500.0    513000.0      21865.5   \n",
       "\n",
       "   ...  FLAG_DOCUMENT_18 FLAG_DOCUMENT_19 FLAG_DOCUMENT_20 FLAG_DOCUMENT_21  \\\n",
       "0  ...                 0                0                0                0   \n",
       "1  ...                 0                0                0                0   \n",
       "2  ...                 0                0                0                0   \n",
       "3  ...                 0                0                0                0   \n",
       "4  ...                 0                0                0                0   \n",
       "\n",
       "  AMT_REQ_CREDIT_BUREAU_HOUR AMT_REQ_CREDIT_BUREAU_DAY  \\\n",
       "0                        0.0                       0.0   \n",
       "1                        0.0                       0.0   \n",
       "2                        0.0                       0.0   \n",
       "3                        NaN                       NaN   \n",
       "4                        0.0                       0.0   \n",
       "\n",
       "   AMT_REQ_CREDIT_BUREAU_WEEK  AMT_REQ_CREDIT_BUREAU_MON  \\\n",
       "0                         0.0                        0.0   \n",
       "1                         0.0                        0.0   \n",
       "2                         0.0                        0.0   \n",
       "3                         NaN                        NaN   \n",
       "4                         0.0                        0.0   \n",
       "\n",
       "   AMT_REQ_CREDIT_BUREAU_QRT  AMT_REQ_CREDIT_BUREAU_YEAR  \n",
       "0                        0.0                         1.0  \n",
       "1                        0.0                         0.0  \n",
       "2                        0.0                         0.0  \n",
       "3                        NaN                         NaN  \n",
       "4                        0.0                         0.0  \n",
       "\n",
       "[5 rows x 122 columns]"
      ]
     },
     "execution_count": 3,
     "metadata": {},
     "output_type": "execute_result"
    }
   ],
   "source": [
    "df.head()"
   ]
  },
  {
   "cell_type": "code",
   "execution_count": 4,
   "id": "ccc995d5",
   "metadata": {
    "execution": {
     "iopub.execute_input": "2022-07-08T04:17:13.308573Z",
     "iopub.status.busy": "2022-07-08T04:17:13.308158Z",
     "iopub.status.idle": "2022-07-08T04:17:13.314953Z",
     "shell.execute_reply": "2022-07-08T04:17:13.313936Z"
    },
    "papermill": {
     "duration": 0.021157,
     "end_time": "2022-07-08T04:17:13.316999",
     "exception": false,
     "start_time": "2022-07-08T04:17:13.295842",
     "status": "completed"
    },
    "tags": []
   },
   "outputs": [
    {
     "data": {
      "text/plain": [
       "(307511, 122)"
      ]
     },
     "execution_count": 4,
     "metadata": {},
     "output_type": "execute_result"
    }
   ],
   "source": [
    "df.shape"
   ]
  },
  {
   "cell_type": "code",
   "execution_count": 5,
   "id": "bb9cbb9b",
   "metadata": {
    "execution": {
     "iopub.execute_input": "2022-07-08T04:17:13.341140Z",
     "iopub.status.busy": "2022-07-08T04:17:13.339976Z",
     "iopub.status.idle": "2022-07-08T04:17:13.345830Z",
     "shell.execute_reply": "2022-07-08T04:17:13.345169Z"
    },
    "papermill": {
     "duration": 0.019691,
     "end_time": "2022-07-08T04:17:13.347663",
     "exception": false,
     "start_time": "2022-07-08T04:17:13.327972",
     "status": "completed"
    },
    "tags": []
   },
   "outputs": [
    {
     "data": {
      "text/plain": [
       "37516342"
      ]
     },
     "execution_count": 5,
     "metadata": {},
     "output_type": "execute_result"
    }
   ],
   "source": [
    "df.size"
   ]
  },
  {
   "cell_type": "code",
   "execution_count": 6,
   "id": "5d58c2b9",
   "metadata": {
    "execution": {
     "iopub.execute_input": "2022-07-08T04:17:13.371901Z",
     "iopub.status.busy": "2022-07-08T04:17:13.371197Z",
     "iopub.status.idle": "2022-07-08T04:17:13.378748Z",
     "shell.execute_reply": "2022-07-08T04:17:13.377999Z"
    },
    "papermill": {
     "duration": 0.021947,
     "end_time": "2022-07-08T04:17:13.380547",
     "exception": false,
     "start_time": "2022-07-08T04:17:13.358600",
     "status": "completed"
    },
    "tags": []
   },
   "outputs": [
    {
     "data": {
      "text/plain": [
       "SK_ID_CURR                      int64\n",
       "TARGET                          int64\n",
       "NAME_CONTRACT_TYPE             object\n",
       "CODE_GENDER                    object\n",
       "FLAG_OWN_CAR                   object\n",
       "                               ...   \n",
       "AMT_REQ_CREDIT_BUREAU_DAY     float64\n",
       "AMT_REQ_CREDIT_BUREAU_WEEK    float64\n",
       "AMT_REQ_CREDIT_BUREAU_MON     float64\n",
       "AMT_REQ_CREDIT_BUREAU_QRT     float64\n",
       "AMT_REQ_CREDIT_BUREAU_YEAR    float64\n",
       "Length: 122, dtype: object"
      ]
     },
     "execution_count": 6,
     "metadata": {},
     "output_type": "execute_result"
    }
   ],
   "source": [
    "df.dtypes"
   ]
  },
  {
   "cell_type": "code",
   "execution_count": 7,
   "id": "4f67da35",
   "metadata": {
    "execution": {
     "iopub.execute_input": "2022-07-08T04:17:13.404765Z",
     "iopub.status.busy": "2022-07-08T04:17:13.404078Z",
     "iopub.status.idle": "2022-07-08T04:17:13.481879Z",
     "shell.execute_reply": "2022-07-08T04:17:13.480797Z"
    },
    "id": "oSlus6HGem8n",
    "papermill": {
     "duration": 0.093199,
     "end_time": "2022-07-08T04:17:13.484616",
     "exception": false,
     "start_time": "2022-07-08T04:17:13.391417",
     "status": "completed"
    },
    "tags": []
   },
   "outputs": [],
   "source": [
    "df.drop([\"CODE_GENDER\",\"FLAG_OWN_CAR\",\"FLAG_OWN_REALTY\",\"CNT_CHILDREN\",\"NAME_EDUCATION_TYPE\",\"NAME_FAMILY_STATUS\",\n",
    "         \"NAME_HOUSING_TYPE\",\"REGION_POPULATION_RELATIVE\",\"DAYS_BIRTH\",\"DAYS_EMPLOYED\",\"DAYS_REGISTRATION\",\"DAYS_ID_PUBLISH\",\"OWN_CAR_AGE\",\"FLAG_MOBIL\",\n",
    "         \"FLAG_EMP_PHONE\",\"FLAG_WORK_PHONE\",\"FLAG_CONT_MOBILE\",\"FLAG_PHONE\",\"FLAG_EMAIL\",\"FLAG_EMAIL\",\"CNT_FAM_MEMBERS\",\"REGION_RATING_CLIENT\",\n",
    "         \"REGION_RATING_CLIENT_W_CITY\",\"REG_REGION_NOT_LIVE_REGION\",\"REG_REGION_NOT_WORK_REGION\",\"NAME_TYPE_SUITE\",\n",
    "         \"LIVE_REGION_NOT_WORK_REGION\",\"REG_CITY_NOT_LIVE_CITY\",\"REG_CITY_NOT_WORK_CITY\",\"LIVE_CITY_NOT_WORK_CITY\"],axis=1,inplace=True)"
   ]
  },
  {
   "cell_type": "code",
   "execution_count": 8,
   "id": "3a8dff28",
   "metadata": {
    "execution": {
     "iopub.execute_input": "2022-07-08T04:17:13.509626Z",
     "iopub.status.busy": "2022-07-08T04:17:13.508553Z",
     "iopub.status.idle": "2022-07-08T04:17:13.584521Z",
     "shell.execute_reply": "2022-07-08T04:17:13.583149Z"
    },
    "id": "Q9XAHlkIna3v",
    "papermill": {
     "duration": 0.091371,
     "end_time": "2022-07-08T04:17:13.587304",
     "exception": false,
     "start_time": "2022-07-08T04:17:13.495933",
     "status": "completed"
    },
    "tags": []
   },
   "outputs": [],
   "source": [
    "df.drop(['FONDKAPREMONT_MODE', 'HOUSETYPE_MODE',\n",
    "       'WALLSMATERIAL_MODE', 'EMERGENCYSTATE_MODE', 'OBS_30_CNT_SOCIAL_CIRCLE',\n",
    "       'DEF_30_CNT_SOCIAL_CIRCLE', 'OBS_60_CNT_SOCIAL_CIRCLE',\n",
    "       'DEF_60_CNT_SOCIAL_CIRCLE', 'DAYS_LAST_PHONE_CHANGE', 'FLAG_DOCUMENT_2',\n",
    "       'FLAG_DOCUMENT_3', 'FLAG_DOCUMENT_4', 'FLAG_DOCUMENT_5',\n",
    "       'FLAG_DOCUMENT_6', 'FLAG_DOCUMENT_7', 'FLAG_DOCUMENT_8',\n",
    "       'FLAG_DOCUMENT_9', 'FLAG_DOCUMENT_10', 'FLAG_DOCUMENT_11',\n",
    "       'FLAG_DOCUMENT_12', 'FLAG_DOCUMENT_13', 'FLAG_DOCUMENT_14',\n",
    "       'FLAG_DOCUMENT_15', 'FLAG_DOCUMENT_16', 'FLAG_DOCUMENT_17',\n",
    "       'FLAG_DOCUMENT_18', 'FLAG_DOCUMENT_19', 'FLAG_DOCUMENT_20',\n",
    "       'FLAG_DOCUMENT_21', 'AMT_REQ_CREDIT_BUREAU_HOUR','AMT_REQ_CREDIT_BUREAU_DAY', 'AMT_REQ_CREDIT_BUREAU_WEEK',\n",
    "       'AMT_REQ_CREDIT_BUREAU_MON', 'AMT_REQ_CREDIT_BUREAU_QRT',\n",
    "'AMT_REQ_CREDIT_BUREAU_YEAR'],axis=1,inplace=True)"
   ]
  },
  {
   "cell_type": "code",
   "execution_count": 9,
   "id": "ff74099a",
   "metadata": {
    "execution": {
     "iopub.execute_input": "2022-07-08T04:17:13.612450Z",
     "iopub.status.busy": "2022-07-08T04:17:13.611776Z",
     "iopub.status.idle": "2022-07-08T04:17:13.639224Z",
     "shell.execute_reply": "2022-07-08T04:17:13.638117Z"
    },
    "id": "HtFFbgWxenKw",
    "outputId": "59e9dd09-5f1c-4d80-8b75-d019ad1a36f5",
    "papermill": {
     "duration": 0.043018,
     "end_time": "2022-07-08T04:17:13.641761",
     "exception": false,
     "start_time": "2022-07-08T04:17:13.598743",
     "status": "completed"
    },
    "tags": []
   },
   "outputs": [
    {
     "data": {
      "text/html": [
       "<div>\n",
       "<style scoped>\n",
       "    .dataframe tbody tr th:only-of-type {\n",
       "        vertical-align: middle;\n",
       "    }\n",
       "\n",
       "    .dataframe tbody tr th {\n",
       "        vertical-align: top;\n",
       "    }\n",
       "\n",
       "    .dataframe thead th {\n",
       "        text-align: right;\n",
       "    }\n",
       "</style>\n",
       "<table border=\"1\" class=\"dataframe\">\n",
       "  <thead>\n",
       "    <tr style=\"text-align: right;\">\n",
       "      <th></th>\n",
       "      <th>SK_ID_CURR</th>\n",
       "      <th>TARGET</th>\n",
       "      <th>NAME_CONTRACT_TYPE</th>\n",
       "      <th>AMT_INCOME_TOTAL</th>\n",
       "      <th>AMT_CREDIT</th>\n",
       "      <th>AMT_ANNUITY</th>\n",
       "      <th>AMT_GOODS_PRICE</th>\n",
       "      <th>NAME_INCOME_TYPE</th>\n",
       "      <th>OCCUPATION_TYPE</th>\n",
       "      <th>WEEKDAY_APPR_PROCESS_START</th>\n",
       "      <th>...</th>\n",
       "      <th>ELEVATORS_MEDI</th>\n",
       "      <th>ENTRANCES_MEDI</th>\n",
       "      <th>FLOORSMAX_MEDI</th>\n",
       "      <th>FLOORSMIN_MEDI</th>\n",
       "      <th>LANDAREA_MEDI</th>\n",
       "      <th>LIVINGAPARTMENTS_MEDI</th>\n",
       "      <th>LIVINGAREA_MEDI</th>\n",
       "      <th>NONLIVINGAPARTMENTS_MEDI</th>\n",
       "      <th>NONLIVINGAREA_MEDI</th>\n",
       "      <th>TOTALAREA_MODE</th>\n",
       "    </tr>\n",
       "  </thead>\n",
       "  <tbody>\n",
       "    <tr>\n",
       "      <th>307506</th>\n",
       "      <td>456251</td>\n",
       "      <td>0</td>\n",
       "      <td>Cash loans</td>\n",
       "      <td>157500.0</td>\n",
       "      <td>254700.0</td>\n",
       "      <td>27558.0</td>\n",
       "      <td>225000.0</td>\n",
       "      <td>Working</td>\n",
       "      <td>Sales staff</td>\n",
       "      <td>THURSDAY</td>\n",
       "      <td>...</td>\n",
       "      <td>0.22</td>\n",
       "      <td>0.1034</td>\n",
       "      <td>0.6042</td>\n",
       "      <td>0.2708</td>\n",
       "      <td>0.0605</td>\n",
       "      <td>0.1509</td>\n",
       "      <td>0.2001</td>\n",
       "      <td>0.0757</td>\n",
       "      <td>0.1118</td>\n",
       "      <td>0.2898</td>\n",
       "    </tr>\n",
       "    <tr>\n",
       "      <th>307507</th>\n",
       "      <td>456252</td>\n",
       "      <td>0</td>\n",
       "      <td>Cash loans</td>\n",
       "      <td>72000.0</td>\n",
       "      <td>269550.0</td>\n",
       "      <td>12001.5</td>\n",
       "      <td>225000.0</td>\n",
       "      <td>Pensioner</td>\n",
       "      <td>NaN</td>\n",
       "      <td>MONDAY</td>\n",
       "      <td>...</td>\n",
       "      <td>0.00</td>\n",
       "      <td>0.1034</td>\n",
       "      <td>0.0833</td>\n",
       "      <td>0.1250</td>\n",
       "      <td>0.0589</td>\n",
       "      <td>0.0205</td>\n",
       "      <td>0.0261</td>\n",
       "      <td>0.0000</td>\n",
       "      <td>0.0000</td>\n",
       "      <td>0.0214</td>\n",
       "    </tr>\n",
       "    <tr>\n",
       "      <th>307508</th>\n",
       "      <td>456253</td>\n",
       "      <td>0</td>\n",
       "      <td>Cash loans</td>\n",
       "      <td>153000.0</td>\n",
       "      <td>677664.0</td>\n",
       "      <td>29979.0</td>\n",
       "      <td>585000.0</td>\n",
       "      <td>Working</td>\n",
       "      <td>Managers</td>\n",
       "      <td>THURSDAY</td>\n",
       "      <td>...</td>\n",
       "      <td>0.00</td>\n",
       "      <td>0.2069</td>\n",
       "      <td>0.1667</td>\n",
       "      <td>0.2083</td>\n",
       "      <td>NaN</td>\n",
       "      <td>0.0855</td>\n",
       "      <td>0.9445</td>\n",
       "      <td>0.0000</td>\n",
       "      <td>0.0000</td>\n",
       "      <td>0.7970</td>\n",
       "    </tr>\n",
       "    <tr>\n",
       "      <th>307509</th>\n",
       "      <td>456254</td>\n",
       "      <td>1</td>\n",
       "      <td>Cash loans</td>\n",
       "      <td>171000.0</td>\n",
       "      <td>370107.0</td>\n",
       "      <td>20205.0</td>\n",
       "      <td>319500.0</td>\n",
       "      <td>Commercial associate</td>\n",
       "      <td>Laborers</td>\n",
       "      <td>WEDNESDAY</td>\n",
       "      <td>...</td>\n",
       "      <td>NaN</td>\n",
       "      <td>0.0690</td>\n",
       "      <td>0.0417</td>\n",
       "      <td>NaN</td>\n",
       "      <td>NaN</td>\n",
       "      <td>NaN</td>\n",
       "      <td>0.0062</td>\n",
       "      <td>NaN</td>\n",
       "      <td>NaN</td>\n",
       "      <td>0.0086</td>\n",
       "    </tr>\n",
       "    <tr>\n",
       "      <th>307510</th>\n",
       "      <td>456255</td>\n",
       "      <td>0</td>\n",
       "      <td>Cash loans</td>\n",
       "      <td>157500.0</td>\n",
       "      <td>675000.0</td>\n",
       "      <td>49117.5</td>\n",
       "      <td>675000.0</td>\n",
       "      <td>Commercial associate</td>\n",
       "      <td>Laborers</td>\n",
       "      <td>THURSDAY</td>\n",
       "      <td>...</td>\n",
       "      <td>0.08</td>\n",
       "      <td>0.0690</td>\n",
       "      <td>0.3750</td>\n",
       "      <td>NaN</td>\n",
       "      <td>NaN</td>\n",
       "      <td>NaN</td>\n",
       "      <td>0.0805</td>\n",
       "      <td>NaN</td>\n",
       "      <td>0.0000</td>\n",
       "      <td>0.0718</td>\n",
       "    </tr>\n",
       "  </tbody>\n",
       "</table>\n",
       "<p>5 rows × 58 columns</p>\n",
       "</div>"
      ],
      "text/plain": [
       "        SK_ID_CURR  TARGET NAME_CONTRACT_TYPE  AMT_INCOME_TOTAL  AMT_CREDIT  \\\n",
       "307506      456251       0         Cash loans          157500.0    254700.0   \n",
       "307507      456252       0         Cash loans           72000.0    269550.0   \n",
       "307508      456253       0         Cash loans          153000.0    677664.0   \n",
       "307509      456254       1         Cash loans          171000.0    370107.0   \n",
       "307510      456255       0         Cash loans          157500.0    675000.0   \n",
       "\n",
       "        AMT_ANNUITY  AMT_GOODS_PRICE      NAME_INCOME_TYPE OCCUPATION_TYPE  \\\n",
       "307506      27558.0         225000.0               Working     Sales staff   \n",
       "307507      12001.5         225000.0             Pensioner             NaN   \n",
       "307508      29979.0         585000.0               Working        Managers   \n",
       "307509      20205.0         319500.0  Commercial associate        Laborers   \n",
       "307510      49117.5         675000.0  Commercial associate        Laborers   \n",
       "\n",
       "       WEEKDAY_APPR_PROCESS_START  ...  ELEVATORS_MEDI ENTRANCES_MEDI  \\\n",
       "307506                   THURSDAY  ...            0.22         0.1034   \n",
       "307507                     MONDAY  ...            0.00         0.1034   \n",
       "307508                   THURSDAY  ...            0.00         0.2069   \n",
       "307509                  WEDNESDAY  ...             NaN         0.0690   \n",
       "307510                   THURSDAY  ...            0.08         0.0690   \n",
       "\n",
       "        FLOORSMAX_MEDI  FLOORSMIN_MEDI  LANDAREA_MEDI  LIVINGAPARTMENTS_MEDI  \\\n",
       "307506          0.6042          0.2708         0.0605                 0.1509   \n",
       "307507          0.0833          0.1250         0.0589                 0.0205   \n",
       "307508          0.1667          0.2083            NaN                 0.0855   \n",
       "307509          0.0417             NaN            NaN                    NaN   \n",
       "307510          0.3750             NaN            NaN                    NaN   \n",
       "\n",
       "        LIVINGAREA_MEDI  NONLIVINGAPARTMENTS_MEDI  NONLIVINGAREA_MEDI  \\\n",
       "307506           0.2001                    0.0757              0.1118   \n",
       "307507           0.0261                    0.0000              0.0000   \n",
       "307508           0.9445                    0.0000              0.0000   \n",
       "307509           0.0062                       NaN                 NaN   \n",
       "307510           0.0805                       NaN              0.0000   \n",
       "\n",
       "        TOTALAREA_MODE  \n",
       "307506          0.2898  \n",
       "307507          0.0214  \n",
       "307508          0.7970  \n",
       "307509          0.0086  \n",
       "307510          0.0718  \n",
       "\n",
       "[5 rows x 58 columns]"
      ]
     },
     "execution_count": 9,
     "metadata": {},
     "output_type": "execute_result"
    }
   ],
   "source": [
    "df.tail()"
   ]
  },
  {
   "cell_type": "code",
   "execution_count": 10,
   "id": "489abae4",
   "metadata": {
    "execution": {
     "iopub.execute_input": "2022-07-08T04:17:13.667294Z",
     "iopub.status.busy": "2022-07-08T04:17:13.666358Z",
     "iopub.status.idle": "2022-07-08T04:17:13.672263Z",
     "shell.execute_reply": "2022-07-08T04:17:13.671610Z"
    },
    "id": "McPYYbxypYAi",
    "outputId": "176b0ebd-39af-499c-e0c8-f109b09089f3",
    "papermill": {
     "duration": 0.02049,
     "end_time": "2022-07-08T04:17:13.674075",
     "exception": false,
     "start_time": "2022-07-08T04:17:13.653585",
     "status": "completed"
    },
    "tags": []
   },
   "outputs": [
    {
     "data": {
      "text/plain": [
       "Index(['SK_ID_CURR', 'TARGET', 'NAME_CONTRACT_TYPE', 'AMT_INCOME_TOTAL',\n",
       "       'AMT_CREDIT', 'AMT_ANNUITY', 'AMT_GOODS_PRICE', 'NAME_INCOME_TYPE',\n",
       "       'OCCUPATION_TYPE', 'WEEKDAY_APPR_PROCESS_START',\n",
       "       'HOUR_APPR_PROCESS_START', 'ORGANIZATION_TYPE', 'EXT_SOURCE_1',\n",
       "       'EXT_SOURCE_2', 'EXT_SOURCE_3', 'APARTMENTS_AVG', 'BASEMENTAREA_AVG',\n",
       "       'YEARS_BEGINEXPLUATATION_AVG', 'YEARS_BUILD_AVG', 'COMMONAREA_AVG',\n",
       "       'ELEVATORS_AVG', 'ENTRANCES_AVG', 'FLOORSMAX_AVG', 'FLOORSMIN_AVG',\n",
       "       'LANDAREA_AVG', 'LIVINGAPARTMENTS_AVG', 'LIVINGAREA_AVG',\n",
       "       'NONLIVINGAPARTMENTS_AVG', 'NONLIVINGAREA_AVG', 'APARTMENTS_MODE',\n",
       "       'BASEMENTAREA_MODE', 'YEARS_BEGINEXPLUATATION_MODE', 'YEARS_BUILD_MODE',\n",
       "       'COMMONAREA_MODE', 'ELEVATORS_MODE', 'ENTRANCES_MODE', 'FLOORSMAX_MODE',\n",
       "       'FLOORSMIN_MODE', 'LANDAREA_MODE', 'LIVINGAPARTMENTS_MODE',\n",
       "       'LIVINGAREA_MODE', 'NONLIVINGAPARTMENTS_MODE', 'NONLIVINGAREA_MODE',\n",
       "       'APARTMENTS_MEDI', 'BASEMENTAREA_MEDI', 'YEARS_BEGINEXPLUATATION_MEDI',\n",
       "       'YEARS_BUILD_MEDI', 'COMMONAREA_MEDI', 'ELEVATORS_MEDI',\n",
       "       'ENTRANCES_MEDI', 'FLOORSMAX_MEDI', 'FLOORSMIN_MEDI', 'LANDAREA_MEDI',\n",
       "       'LIVINGAPARTMENTS_MEDI', 'LIVINGAREA_MEDI', 'NONLIVINGAPARTMENTS_MEDI',\n",
       "       'NONLIVINGAREA_MEDI', 'TOTALAREA_MODE'],\n",
       "      dtype='object')"
      ]
     },
     "execution_count": 10,
     "metadata": {},
     "output_type": "execute_result"
    }
   ],
   "source": [
    "df.columns"
   ]
  },
  {
   "cell_type": "code",
   "execution_count": 11,
   "id": "9c29e0ab",
   "metadata": {
    "execution": {
     "iopub.execute_input": "2022-07-08T04:17:13.701701Z",
     "iopub.status.busy": "2022-07-08T04:17:13.701009Z",
     "iopub.status.idle": "2022-07-08T04:17:13.715681Z",
     "shell.execute_reply": "2022-07-08T04:17:13.714897Z"
    },
    "id": "jSfhKaXhrABI",
    "papermill": {
     "duration": 0.030161,
     "end_time": "2022-07-08T04:17:13.717780",
     "exception": false,
     "start_time": "2022-07-08T04:17:13.687619",
     "status": "completed"
    },
    "tags": []
   },
   "outputs": [],
   "source": [
    "df.drop(['EXT_SOURCE_1', 'EXT_SOURCE_2', 'EXT_SOURCE_3', 'APARTMENTS_AVG',\n",
    "       'BASEMENTAREA_AVG', 'YEARS_BEGINEXPLUATATION_AVG', 'YEARS_BUILD_AVG',\n",
    "       'COMMONAREA_AVG', 'ELEVATORS_AVG', 'ENTRANCES_AVG', 'FLOORSMAX_AVG',\n",
    "       'FLOORSMIN_AVG', 'LANDAREA_AVG', 'LIVINGAPARTMENTS_AVG','NAME_CONTRACT_TYPE',\n",
    "       'LIVINGAREA_AVG', 'NONLIVINGAPARTMENTS_AVG', 'NONLIVINGAREA_AVG',\n",
    "       'APARTMENTS_MODE', 'BASEMENTAREA_MODE', 'YEARS_BEGINEXPLUATATION_MODE',\n",
    "       'YEARS_BUILD_MODE', 'COMMONAREA_MODE', 'ELEVATORS_MODE','WEEKDAY_APPR_PROCESS_START',\n",
    "       'ENTRANCES_MODE', 'FLOORSMAX_MODE', 'FLOORSMIN_MODE', 'LANDAREA_MODE',\n",
    "       'LIVINGAPARTMENTS_MODE', 'LIVINGAREA_MODE', 'NONLIVINGAPARTMENTS_MODE',\n",
    "       'NONLIVINGAREA_MODE', 'APARTMENTS_MEDI', 'BASEMENTAREA_MEDI','OCCUPATION_TYPE',\n",
    "       'YEARS_BEGINEXPLUATATION_MEDI', 'YEARS_BUILD_MEDI', 'COMMONAREA_MEDI',\n",
    "       'ELEVATORS_MEDI', 'ENTRANCES_MEDI', 'FLOORSMAX_MEDI', 'FLOORSMIN_MEDI',\n",
    "       'LANDAREA_MEDI', 'LIVINGAPARTMENTS_MEDI', 'LIVINGAREA_MEDI',\n",
    "       'NONLIVINGAPARTMENTS_MEDI', 'NONLIVINGAREA_MEDI', 'TOTALAREA_MODE'],axis=1,inplace=True)"
   ]
  },
  {
   "cell_type": "code",
   "execution_count": 12,
   "id": "a2d21f49",
   "metadata": {
    "execution": {
     "iopub.execute_input": "2022-07-08T04:17:13.743177Z",
     "iopub.status.busy": "2022-07-08T04:17:13.742459Z",
     "iopub.status.idle": "2022-07-08T04:17:13.749284Z",
     "shell.execute_reply": "2022-07-08T04:17:13.748212Z"
    },
    "id": "WtKXUEePr79A",
    "outputId": "3e3525ff-26fe-4168-d839-86a4037d71b8",
    "papermill": {
     "duration": 0.022036,
     "end_time": "2022-07-08T04:17:13.751367",
     "exception": false,
     "start_time": "2022-07-08T04:17:13.729331",
     "status": "completed"
    },
    "tags": []
   },
   "outputs": [
    {
     "data": {
      "text/plain": [
       "Index(['SK_ID_CURR', 'TARGET', 'AMT_INCOME_TOTAL', 'AMT_CREDIT', 'AMT_ANNUITY',\n",
       "       'AMT_GOODS_PRICE', 'NAME_INCOME_TYPE', 'HOUR_APPR_PROCESS_START',\n",
       "       'ORGANIZATION_TYPE'],\n",
       "      dtype='object')"
      ]
     },
     "execution_count": 12,
     "metadata": {},
     "output_type": "execute_result"
    }
   ],
   "source": [
    "df.columns"
   ]
  },
  {
   "cell_type": "code",
   "execution_count": 13,
   "id": "dcff81bd",
   "metadata": {
    "execution": {
     "iopub.execute_input": "2022-07-08T04:17:13.776546Z",
     "iopub.status.busy": "2022-07-08T04:17:13.775447Z",
     "iopub.status.idle": "2022-07-08T04:17:13.781644Z",
     "shell.execute_reply": "2022-07-08T04:17:13.780668Z"
    },
    "id": "XxbKo3CRr-LN",
    "outputId": "5b8a6240-62ad-4564-bcd2-22532ea44f30",
    "papermill": {
     "duration": 0.020796,
     "end_time": "2022-07-08T04:17:13.783682",
     "exception": false,
     "start_time": "2022-07-08T04:17:13.762886",
     "status": "completed"
    },
    "tags": []
   },
   "outputs": [
    {
     "data": {
      "text/plain": [
       "(307511, 9)"
      ]
     },
     "execution_count": 13,
     "metadata": {},
     "output_type": "execute_result"
    }
   ],
   "source": [
    "df.shape"
   ]
  },
  {
   "cell_type": "code",
   "execution_count": 14,
   "id": "2fa3ee6f",
   "metadata": {
    "execution": {
     "iopub.execute_input": "2022-07-08T04:17:13.808926Z",
     "iopub.status.busy": "2022-07-08T04:17:13.808450Z",
     "iopub.status.idle": "2022-07-08T04:17:13.858216Z",
     "shell.execute_reply": "2022-07-08T04:17:13.856877Z"
    },
    "id": "CoUrEr78IdfW",
    "outputId": "2ff5fbd7-168d-43f2-96ae-8bd967f778db",
    "papermill": {
     "duration": 0.065924,
     "end_time": "2022-07-08T04:17:13.861364",
     "exception": false,
     "start_time": "2022-07-08T04:17:13.795440",
     "status": "completed"
    },
    "tags": []
   },
   "outputs": [
    {
     "name": "stdout",
     "output_type": "stream",
     "text": [
      "<class 'pandas.core.frame.DataFrame'>\n",
      "RangeIndex: 307511 entries, 0 to 307510\n",
      "Data columns (total 9 columns):\n",
      " #   Column                   Non-Null Count   Dtype  \n",
      "---  ------                   --------------   -----  \n",
      " 0   SK_ID_CURR               307511 non-null  int64  \n",
      " 1   TARGET                   307511 non-null  int64  \n",
      " 2   AMT_INCOME_TOTAL         307511 non-null  float64\n",
      " 3   AMT_CREDIT               307511 non-null  float64\n",
      " 4   AMT_ANNUITY              307499 non-null  float64\n",
      " 5   AMT_GOODS_PRICE          307233 non-null  float64\n",
      " 6   NAME_INCOME_TYPE         307511 non-null  object \n",
      " 7   HOUR_APPR_PROCESS_START  307511 non-null  int64  \n",
      " 8   ORGANIZATION_TYPE        307511 non-null  object \n",
      "dtypes: float64(4), int64(3), object(2)\n",
      "memory usage: 21.1+ MB\n"
     ]
    }
   ],
   "source": [
    "df.info()"
   ]
  },
  {
   "cell_type": "code",
   "execution_count": 15,
   "id": "3fccbafb",
   "metadata": {
    "execution": {
     "iopub.execute_input": "2022-07-08T04:17:13.886976Z",
     "iopub.status.busy": "2022-07-08T04:17:13.886592Z",
     "iopub.status.idle": "2022-07-08T04:17:14.019516Z",
     "shell.execute_reply": "2022-07-08T04:17:14.018336Z"
    },
    "papermill": {
     "duration": 0.148731,
     "end_time": "2022-07-08T04:17:14.022281",
     "exception": false,
     "start_time": "2022-07-08T04:17:13.873550",
     "status": "completed"
    },
    "tags": []
   },
   "outputs": [
    {
     "data": {
      "text/html": [
       "<div>\n",
       "<style scoped>\n",
       "    .dataframe tbody tr th:only-of-type {\n",
       "        vertical-align: middle;\n",
       "    }\n",
       "\n",
       "    .dataframe tbody tr th {\n",
       "        vertical-align: top;\n",
       "    }\n",
       "\n",
       "    .dataframe thead th {\n",
       "        text-align: right;\n",
       "    }\n",
       "</style>\n",
       "<table border=\"1\" class=\"dataframe\">\n",
       "  <thead>\n",
       "    <tr style=\"text-align: right;\">\n",
       "      <th></th>\n",
       "      <th>SK_ID_CURR</th>\n",
       "      <th>TARGET</th>\n",
       "      <th>AMT_INCOME_TOTAL</th>\n",
       "      <th>AMT_CREDIT</th>\n",
       "      <th>AMT_ANNUITY</th>\n",
       "      <th>AMT_GOODS_PRICE</th>\n",
       "      <th>HOUR_APPR_PROCESS_START</th>\n",
       "    </tr>\n",
       "  </thead>\n",
       "  <tbody>\n",
       "    <tr>\n",
       "      <th>count</th>\n",
       "      <td>307511.000000</td>\n",
       "      <td>307511.000000</td>\n",
       "      <td>3.075110e+05</td>\n",
       "      <td>3.075110e+05</td>\n",
       "      <td>307499.000000</td>\n",
       "      <td>3.072330e+05</td>\n",
       "      <td>307511.000000</td>\n",
       "    </tr>\n",
       "    <tr>\n",
       "      <th>mean</th>\n",
       "      <td>278180.518577</td>\n",
       "      <td>0.080729</td>\n",
       "      <td>1.687979e+05</td>\n",
       "      <td>5.990260e+05</td>\n",
       "      <td>27108.573909</td>\n",
       "      <td>5.383962e+05</td>\n",
       "      <td>12.063419</td>\n",
       "    </tr>\n",
       "    <tr>\n",
       "      <th>std</th>\n",
       "      <td>102790.175348</td>\n",
       "      <td>0.272419</td>\n",
       "      <td>2.371231e+05</td>\n",
       "      <td>4.024908e+05</td>\n",
       "      <td>14493.737315</td>\n",
       "      <td>3.694465e+05</td>\n",
       "      <td>3.265832</td>\n",
       "    </tr>\n",
       "    <tr>\n",
       "      <th>min</th>\n",
       "      <td>100002.000000</td>\n",
       "      <td>0.000000</td>\n",
       "      <td>2.565000e+04</td>\n",
       "      <td>4.500000e+04</td>\n",
       "      <td>1615.500000</td>\n",
       "      <td>4.050000e+04</td>\n",
       "      <td>0.000000</td>\n",
       "    </tr>\n",
       "    <tr>\n",
       "      <th>25%</th>\n",
       "      <td>189145.500000</td>\n",
       "      <td>0.000000</td>\n",
       "      <td>1.125000e+05</td>\n",
       "      <td>2.700000e+05</td>\n",
       "      <td>16524.000000</td>\n",
       "      <td>2.385000e+05</td>\n",
       "      <td>10.000000</td>\n",
       "    </tr>\n",
       "    <tr>\n",
       "      <th>50%</th>\n",
       "      <td>278202.000000</td>\n",
       "      <td>0.000000</td>\n",
       "      <td>1.471500e+05</td>\n",
       "      <td>5.135310e+05</td>\n",
       "      <td>24903.000000</td>\n",
       "      <td>4.500000e+05</td>\n",
       "      <td>12.000000</td>\n",
       "    </tr>\n",
       "    <tr>\n",
       "      <th>75%</th>\n",
       "      <td>367142.500000</td>\n",
       "      <td>0.000000</td>\n",
       "      <td>2.025000e+05</td>\n",
       "      <td>8.086500e+05</td>\n",
       "      <td>34596.000000</td>\n",
       "      <td>6.795000e+05</td>\n",
       "      <td>14.000000</td>\n",
       "    </tr>\n",
       "    <tr>\n",
       "      <th>max</th>\n",
       "      <td>456255.000000</td>\n",
       "      <td>1.000000</td>\n",
       "      <td>1.170000e+08</td>\n",
       "      <td>4.050000e+06</td>\n",
       "      <td>258025.500000</td>\n",
       "      <td>4.050000e+06</td>\n",
       "      <td>23.000000</td>\n",
       "    </tr>\n",
       "  </tbody>\n",
       "</table>\n",
       "</div>"
      ],
      "text/plain": [
       "          SK_ID_CURR         TARGET  AMT_INCOME_TOTAL    AMT_CREDIT  \\\n",
       "count  307511.000000  307511.000000      3.075110e+05  3.075110e+05   \n",
       "mean   278180.518577       0.080729      1.687979e+05  5.990260e+05   \n",
       "std    102790.175348       0.272419      2.371231e+05  4.024908e+05   \n",
       "min    100002.000000       0.000000      2.565000e+04  4.500000e+04   \n",
       "25%    189145.500000       0.000000      1.125000e+05  2.700000e+05   \n",
       "50%    278202.000000       0.000000      1.471500e+05  5.135310e+05   \n",
       "75%    367142.500000       0.000000      2.025000e+05  8.086500e+05   \n",
       "max    456255.000000       1.000000      1.170000e+08  4.050000e+06   \n",
       "\n",
       "         AMT_ANNUITY  AMT_GOODS_PRICE  HOUR_APPR_PROCESS_START  \n",
       "count  307499.000000     3.072330e+05            307511.000000  \n",
       "mean    27108.573909     5.383962e+05                12.063419  \n",
       "std     14493.737315     3.694465e+05                 3.265832  \n",
       "min      1615.500000     4.050000e+04                 0.000000  \n",
       "25%     16524.000000     2.385000e+05                10.000000  \n",
       "50%     24903.000000     4.500000e+05                12.000000  \n",
       "75%     34596.000000     6.795000e+05                14.000000  \n",
       "max    258025.500000     4.050000e+06                23.000000  "
      ]
     },
     "execution_count": 15,
     "metadata": {},
     "output_type": "execute_result"
    }
   ],
   "source": [
    "df.describe()"
   ]
  },
  {
   "cell_type": "markdown",
   "id": "50c5c489",
   "metadata": {
    "papermill": {
     "duration": 0.012635,
     "end_time": "2022-07-08T04:17:14.047039",
     "exception": false,
     "start_time": "2022-07-08T04:17:14.034404",
     "status": "completed"
    },
    "tags": []
   },
   "source": [
    "**Missing Numbes**"
   ]
  },
  {
   "cell_type": "code",
   "execution_count": 16,
   "id": "1beeed2d",
   "metadata": {
    "execution": {
     "iopub.execute_input": "2022-07-08T04:17:14.083148Z",
     "iopub.status.busy": "2022-07-08T04:17:14.073415Z",
     "iopub.status.idle": "2022-07-08T04:17:14.090569Z",
     "shell.execute_reply": "2022-07-08T04:17:14.089789Z"
    },
    "papermill": {
     "duration": 0.033354,
     "end_time": "2022-07-08T04:17:14.092922",
     "exception": false,
     "start_time": "2022-07-08T04:17:14.059568",
     "status": "completed"
    },
    "tags": []
   },
   "outputs": [],
   "source": [
    "def missing (df1):\n",
    "    missing_number = df1.isnull().sum().sort_values(ascending=False)\n",
    "    missing_percent = ((df1.isnull().sum()/df1.isnull().count())*100).sort_values(ascending=False)\n",
    "    missing_values = pd.concat([missing_number, missing_percent], axis=1, keys=['Missing_Number', 'Missing_Percent'])\n",
    "    return missing_values"
   ]
  },
  {
   "cell_type": "markdown",
   "id": "238196ef",
   "metadata": {
    "papermill": {
     "duration": 0.011419,
     "end_time": "2022-07-08T04:17:14.116450",
     "exception": false,
     "start_time": "2022-07-08T04:17:14.105031",
     "status": "completed"
    },
    "tags": []
   },
   "source": [
    "**Fill Null values with Mean, median and Mode**"
   ]
  },
  {
   "cell_type": "code",
   "execution_count": 17,
   "id": "01e348f9",
   "metadata": {
    "execution": {
     "iopub.execute_input": "2022-07-08T04:17:14.142113Z",
     "iopub.status.busy": "2022-07-08T04:17:14.141591Z",
     "iopub.status.idle": "2022-07-08T04:17:14.182104Z",
     "shell.execute_reply": "2022-07-08T04:17:14.180885Z"
    },
    "id": "wCXiYutGskFD",
    "outputId": "9235ce4a-cc66-4654-f3cb-1de25f10ce0d",
    "papermill": {
     "duration": 0.056174,
     "end_time": "2022-07-08T04:17:14.184447",
     "exception": false,
     "start_time": "2022-07-08T04:17:14.128273",
     "status": "completed"
    },
    "tags": []
   },
   "outputs": [
    {
     "data": {
      "text/plain": [
       "SK_ID_CURR                   0\n",
       "TARGET                       0\n",
       "AMT_INCOME_TOTAL             0\n",
       "AMT_CREDIT                   0\n",
       "AMT_ANNUITY                 12\n",
       "AMT_GOODS_PRICE            278\n",
       "NAME_INCOME_TYPE             0\n",
       "HOUR_APPR_PROCESS_START      0\n",
       "ORGANIZATION_TYPE            0\n",
       "dtype: int64"
      ]
     },
     "execution_count": 17,
     "metadata": {},
     "output_type": "execute_result"
    }
   ],
   "source": [
    "df.isnull().sum()"
   ]
  },
  {
   "cell_type": "code",
   "execution_count": 18,
   "id": "ce5e4385",
   "metadata": {
    "execution": {
     "iopub.execute_input": "2022-07-08T04:17:14.220994Z",
     "iopub.status.busy": "2022-07-08T04:17:14.220541Z",
     "iopub.status.idle": "2022-07-08T04:17:14.378112Z",
     "shell.execute_reply": "2022-07-08T04:17:14.376832Z"
    },
    "papermill": {
     "duration": 0.17874,
     "end_time": "2022-07-08T04:17:14.381318",
     "exception": false,
     "start_time": "2022-07-08T04:17:14.202578",
     "status": "completed"
    },
    "tags": []
   },
   "outputs": [
    {
     "name": "stdout",
     "output_type": "stream",
     "text": [
      "        SK_ID_CURR  TARGET  AMT_INCOME_TOTAL  AMT_CREDIT  AMT_ANNUITY  \\\n",
      "0           100002       1          202500.0    406597.5      24700.5   \n",
      "1           100003       0          270000.0   1293502.5      35698.5   \n",
      "2           100004       0           67500.0    135000.0       6750.0   \n",
      "3           100006       0          135000.0    312682.5      29686.5   \n",
      "4           100007       0          121500.0    513000.0      21865.5   \n",
      "...            ...     ...               ...         ...          ...   \n",
      "307506      456251       0          157500.0    254700.0      27558.0   \n",
      "307507      456252       0           72000.0    269550.0      12001.5   \n",
      "307508      456253       0          153000.0    677664.0      29979.0   \n",
      "307509      456254       1          171000.0    370107.0      20205.0   \n",
      "307510      456255       0          157500.0    675000.0      49117.5   \n",
      "\n",
      "        AMT_GOODS_PRICE      NAME_INCOME_TYPE  HOUR_APPR_PROCESS_START  \\\n",
      "0              351000.0               Working                       10   \n",
      "1             1129500.0         State servant                       11   \n",
      "2              135000.0               Working                        9   \n",
      "3              297000.0               Working                       17   \n",
      "4              513000.0               Working                       11   \n",
      "...                 ...                   ...                      ...   \n",
      "307506         225000.0               Working                       15   \n",
      "307507         225000.0             Pensioner                        8   \n",
      "307508         585000.0               Working                        9   \n",
      "307509         319500.0  Commercial associate                        9   \n",
      "307510         675000.0  Commercial associate                       20   \n",
      "\n",
      "             ORGANIZATION_TYPE  \n",
      "0       Business Entity Type 3  \n",
      "1                       School  \n",
      "2                   Government  \n",
      "3       Business Entity Type 3  \n",
      "4                     Religion  \n",
      "...                        ...  \n",
      "307506                Services  \n",
      "307507                     XNA  \n",
      "307508                  School  \n",
      "307509  Business Entity Type 1  \n",
      "307510  Business Entity Type 3  \n",
      "\n",
      "[307511 rows x 9 columns]\n"
     ]
    }
   ],
   "source": [
    "#fill null values with mean,median ,mode\n",
    "for i in df.columns:\n",
    "    if df[i].dtypes == 'object':\n",
    "        df[i].fillna(df[i].mode()[0], inplace=True)\n",
    "    else:\n",
    "        df[i].fillna(df[i].median(), inplace=True)\n",
    "print(df)"
   ]
  },
  {
   "cell_type": "code",
   "execution_count": 19,
   "id": "8f7303fe",
   "metadata": {
    "execution": {
     "iopub.execute_input": "2022-07-08T04:17:14.410221Z",
     "iopub.status.busy": "2022-07-08T04:17:14.409152Z",
     "iopub.status.idle": "2022-07-08T04:17:14.453517Z",
     "shell.execute_reply": "2022-07-08T04:17:14.451262Z"
    },
    "id": "FDw_vuI-3Y8p",
    "outputId": "ea04c75e-247d-4420-85bf-f716999e04cb",
    "papermill": {
     "duration": 0.061971,
     "end_time": "2022-07-08T04:17:14.456231",
     "exception": false,
     "start_time": "2022-07-08T04:17:14.394260",
     "status": "completed"
    },
    "tags": []
   },
   "outputs": [
    {
     "data": {
      "text/plain": [
       "SK_ID_CURR                 0\n",
       "TARGET                     0\n",
       "AMT_INCOME_TOTAL           0\n",
       "AMT_CREDIT                 0\n",
       "AMT_ANNUITY                0\n",
       "AMT_GOODS_PRICE            0\n",
       "NAME_INCOME_TYPE           0\n",
       "HOUR_APPR_PROCESS_START    0\n",
       "ORGANIZATION_TYPE          0\n",
       "dtype: int64"
      ]
     },
     "execution_count": 19,
     "metadata": {},
     "output_type": "execute_result"
    }
   ],
   "source": [
    "df.isnull().sum()"
   ]
  },
  {
   "cell_type": "code",
   "execution_count": 20,
   "id": "1cbfbadb",
   "metadata": {
    "execution": {
     "iopub.execute_input": "2022-07-08T04:17:14.484145Z",
     "iopub.status.busy": "2022-07-08T04:17:14.483269Z",
     "iopub.status.idle": "2022-07-08T04:17:14.501519Z",
     "shell.execute_reply": "2022-07-08T04:17:14.500583Z"
    },
    "id": "2wW9dzmES9zf",
    "outputId": "6a785756-e1a7-4d91-9eb0-aa38ddc1cc71",
    "papermill": {
     "duration": 0.034949,
     "end_time": "2022-07-08T04:17:14.503915",
     "exception": false,
     "start_time": "2022-07-08T04:17:14.468966",
     "status": "completed"
    },
    "tags": []
   },
   "outputs": [
    {
     "data": {
      "text/html": [
       "<div>\n",
       "<style scoped>\n",
       "    .dataframe tbody tr th:only-of-type {\n",
       "        vertical-align: middle;\n",
       "    }\n",
       "\n",
       "    .dataframe tbody tr th {\n",
       "        vertical-align: top;\n",
       "    }\n",
       "\n",
       "    .dataframe thead th {\n",
       "        text-align: right;\n",
       "    }\n",
       "</style>\n",
       "<table border=\"1\" class=\"dataframe\">\n",
       "  <thead>\n",
       "    <tr style=\"text-align: right;\">\n",
       "      <th></th>\n",
       "      <th>SK_ID_CURR</th>\n",
       "      <th>TARGET</th>\n",
       "      <th>AMT_INCOME_TOTAL</th>\n",
       "      <th>AMT_CREDIT</th>\n",
       "      <th>AMT_ANNUITY</th>\n",
       "      <th>AMT_GOODS_PRICE</th>\n",
       "      <th>NAME_INCOME_TYPE</th>\n",
       "      <th>HOUR_APPR_PROCESS_START</th>\n",
       "      <th>ORGANIZATION_TYPE</th>\n",
       "    </tr>\n",
       "  </thead>\n",
       "  <tbody>\n",
       "    <tr>\n",
       "      <th>0</th>\n",
       "      <td>100002</td>\n",
       "      <td>1</td>\n",
       "      <td>202500.0</td>\n",
       "      <td>406597.5</td>\n",
       "      <td>24700.5</td>\n",
       "      <td>351000.0</td>\n",
       "      <td>Working</td>\n",
       "      <td>10</td>\n",
       "      <td>Business Entity Type 3</td>\n",
       "    </tr>\n",
       "    <tr>\n",
       "      <th>1</th>\n",
       "      <td>100003</td>\n",
       "      <td>0</td>\n",
       "      <td>270000.0</td>\n",
       "      <td>1293502.5</td>\n",
       "      <td>35698.5</td>\n",
       "      <td>1129500.0</td>\n",
       "      <td>State servant</td>\n",
       "      <td>11</td>\n",
       "      <td>School</td>\n",
       "    </tr>\n",
       "    <tr>\n",
       "      <th>2</th>\n",
       "      <td>100004</td>\n",
       "      <td>0</td>\n",
       "      <td>67500.0</td>\n",
       "      <td>135000.0</td>\n",
       "      <td>6750.0</td>\n",
       "      <td>135000.0</td>\n",
       "      <td>Working</td>\n",
       "      <td>9</td>\n",
       "      <td>Government</td>\n",
       "    </tr>\n",
       "    <tr>\n",
       "      <th>3</th>\n",
       "      <td>100006</td>\n",
       "      <td>0</td>\n",
       "      <td>135000.0</td>\n",
       "      <td>312682.5</td>\n",
       "      <td>29686.5</td>\n",
       "      <td>297000.0</td>\n",
       "      <td>Working</td>\n",
       "      <td>17</td>\n",
       "      <td>Business Entity Type 3</td>\n",
       "    </tr>\n",
       "    <tr>\n",
       "      <th>4</th>\n",
       "      <td>100007</td>\n",
       "      <td>0</td>\n",
       "      <td>121500.0</td>\n",
       "      <td>513000.0</td>\n",
       "      <td>21865.5</td>\n",
       "      <td>513000.0</td>\n",
       "      <td>Working</td>\n",
       "      <td>11</td>\n",
       "      <td>Religion</td>\n",
       "    </tr>\n",
       "  </tbody>\n",
       "</table>\n",
       "</div>"
      ],
      "text/plain": [
       "   SK_ID_CURR  TARGET  AMT_INCOME_TOTAL  AMT_CREDIT  AMT_ANNUITY  \\\n",
       "0      100002       1          202500.0    406597.5      24700.5   \n",
       "1      100003       0          270000.0   1293502.5      35698.5   \n",
       "2      100004       0           67500.0    135000.0       6750.0   \n",
       "3      100006       0          135000.0    312682.5      29686.5   \n",
       "4      100007       0          121500.0    513000.0      21865.5   \n",
       "\n",
       "   AMT_GOODS_PRICE NAME_INCOME_TYPE  HOUR_APPR_PROCESS_START  \\\n",
       "0         351000.0          Working                       10   \n",
       "1        1129500.0    State servant                       11   \n",
       "2         135000.0          Working                        9   \n",
       "3         297000.0          Working                       17   \n",
       "4         513000.0          Working                       11   \n",
       "\n",
       "        ORGANIZATION_TYPE  \n",
       "0  Business Entity Type 3  \n",
       "1                  School  \n",
       "2              Government  \n",
       "3  Business Entity Type 3  \n",
       "4                Religion  "
      ]
     },
     "execution_count": 20,
     "metadata": {},
     "output_type": "execute_result"
    }
   ],
   "source": [
    "df.head()"
   ]
  },
  {
   "cell_type": "markdown",
   "id": "e0088180",
   "metadata": {
    "papermill": {
     "duration": 0.013472,
     "end_time": "2022-07-08T04:17:14.530323",
     "exception": false,
     "start_time": "2022-07-08T04:17:14.516851",
     "status": "completed"
    },
    "tags": []
   },
   "source": [
    "**Split the Numeric and Catagorical Data**"
   ]
  },
  {
   "cell_type": "code",
   "execution_count": 21,
   "id": "9ac54dbc",
   "metadata": {
    "execution": {
     "iopub.execute_input": "2022-07-08T04:17:14.558632Z",
     "iopub.status.busy": "2022-07-08T04:17:14.558245Z",
     "iopub.status.idle": "2022-07-08T04:17:14.596814Z",
     "shell.execute_reply": "2022-07-08T04:17:14.595333Z"
    },
    "papermill": {
     "duration": 0.056609,
     "end_time": "2022-07-08T04:17:14.600275",
     "exception": false,
     "start_time": "2022-07-08T04:17:14.543666",
     "status": "completed"
    },
    "tags": []
   },
   "outputs": [
    {
     "name": "stdout",
     "output_type": "stream",
     "text": [
      "Numerical Columns:  Index(['SK_ID_CURR', 'AMT_INCOME_TOTAL', 'AMT_CREDIT', 'AMT_ANNUITY',\n",
      "       'AMT_GOODS_PRICE', 'HOUR_APPR_PROCESS_START'],\n",
      "      dtype='object')\n",
      "\n",
      "\n",
      "Categorical Columns: Index(['NAME_INCOME_TYPE', 'ORGANIZATION_TYPE'], dtype='object')\n"
     ]
    }
   ],
   "source": [
    "# finding numerical data and categorical data in dataset\n",
    "numerical= df.drop(['TARGET'], axis=1).select_dtypes('number').columns\n",
    "\n",
    "categorical = df.select_dtypes('object').columns\n",
    "\n",
    "print(f'Numerical Columns:  {df[numerical].columns}')\n",
    "print('\\n')\n",
    "print(f'Categorical Columns: {df[categorical].columns}')"
   ]
  },
  {
   "cell_type": "markdown",
   "id": "ebdf135c",
   "metadata": {
    "papermill": {
     "duration": 0.014585,
     "end_time": "2022-07-08T04:17:14.639000",
     "exception": false,
     "start_time": "2022-07-08T04:17:14.624415",
     "status": "completed"
    },
    "tags": []
   },
   "source": [
    "**Count Plot**"
   ]
  },
  {
   "cell_type": "code",
   "execution_count": 22,
   "id": "72905ad4",
   "metadata": {
    "execution": {
     "iopub.execute_input": "2022-07-08T04:17:14.667355Z",
     "iopub.status.busy": "2022-07-08T04:17:14.666382Z",
     "iopub.status.idle": "2022-07-08T04:17:14.869653Z",
     "shell.execute_reply": "2022-07-08T04:17:14.867939Z"
    },
    "papermill": {
     "duration": 0.220401,
     "end_time": "2022-07-08T04:17:14.872399",
     "exception": false,
     "start_time": "2022-07-08T04:17:14.651998",
     "status": "completed"
    },
    "tags": []
   },
   "outputs": [
    {
     "name": "stderr",
     "output_type": "stream",
     "text": [
      "/opt/conda/lib/python3.7/site-packages/seaborn/_decorators.py:43: FutureWarning: Pass the following variable as a keyword arg: x. From version 0.12, the only valid positional argument will be `data`, and passing other arguments without an explicit keyword will result in an error or misinterpretation.\n",
      "  FutureWarning\n"
     ]
    },
    {
     "data": {
      "image/png": "[encoded data removed]",
      "text/plain": [
       "<Figure size 432x288 with 1 Axes>"
      ]
     },
     "metadata": {
      "needs_background": "light"
     },
     "output_type": "display_data"
    }
   ],
   "source": [
    "sns.countplot(df.dtypes.map(str))\n",
    "plt.show()"
   ]
  },
  {
   "cell_type": "markdown",
   "id": "29d4598d",
   "metadata": {
    "papermill": {
     "duration": 0.013559,
     "end_time": "2022-07-08T04:17:14.899189",
     "exception": false,
     "start_time": "2022-07-08T04:17:14.885630",
     "status": "completed"
    },
    "tags": []
   },
   "source": [
    "**Apply the Label Encoding**"
   ]
  },
  {
   "cell_type": "markdown",
   "id": "e62bd691",
   "metadata": {
    "papermill": {
     "duration": 0.012488,
     "end_time": "2022-07-08T04:17:14.925347",
     "exception": false,
     "start_time": "2022-07-08T04:17:14.912859",
     "status": "completed"
    },
    "tags": []
   },
   "source": [
    "Label encoding is the process of transforming labels into a numeric form so that they may be read by machines. The operation of those labels can then be better determined by machine learning techniques. It is a significant supervised learning pre-processing step for the structured dataset."
   ]
  },
  {
   "cell_type": "code",
   "execution_count": 23,
   "id": "228a73d7",
   "metadata": {
    "execution": {
     "iopub.execute_input": "2022-07-08T04:17:14.953677Z",
     "iopub.status.busy": "2022-07-08T04:17:14.952839Z",
     "iopub.status.idle": "2022-07-08T04:17:15.029225Z",
     "shell.execute_reply": "2022-07-08T04:17:15.027816Z"
    },
    "id": "zpna9Ox-SmXg",
    "outputId": "4fa94dd8-1fd7-47a0-bb01-15e59eb7101d",
    "papermill": {
     "duration": 0.093723,
     "end_time": "2022-07-08T04:17:15.031907",
     "exception": false,
     "start_time": "2022-07-08T04:17:14.938184",
     "status": "completed"
    },
    "tags": []
   },
   "outputs": [
    {
     "data": {
      "text/plain": [
       "0         7\n",
       "1         4\n",
       "2         7\n",
       "3         7\n",
       "4         7\n",
       "         ..\n",
       "307506    7\n",
       "307507    3\n",
       "307508    7\n",
       "307509    1\n",
       "307510    1\n",
       "Name: NAME_INCOME_TYPE, Length: 307511, dtype: int64"
      ]
     },
     "execution_count": 23,
     "metadata": {},
     "output_type": "execute_result"
    }
   ],
   "source": [
    "# Import label encoder\n",
    "from sklearn import preprocessing\n",
    "\n",
    "# label_encoder object knows how to understand word labels.\n",
    "label_encoder = preprocessing.LabelEncoder()\n",
    "\n",
    "# Encode labels in column 'species'.\n",
    "df['NAME_INCOME_TYPE']= label_encoder.fit_transform(df['NAME_INCOME_TYPE'])\n",
    "\n",
    "df['NAME_INCOME_TYPE']"
   ]
  },
  {
   "cell_type": "code",
   "execution_count": 24,
   "id": "ef951a59",
   "metadata": {
    "execution": {
     "iopub.execute_input": "2022-07-08T04:17:15.059888Z",
     "iopub.status.busy": "2022-07-08T04:17:15.059443Z",
     "iopub.status.idle": "2022-07-08T04:17:15.136984Z",
     "shell.execute_reply": "2022-07-08T04:17:15.135764Z"
    },
    "id": "3SvbRpalT1PA",
    "outputId": "ecd1e6fc-dae2-4040-ad29-bbf09ca4b7f0",
    "papermill": {
     "duration": 0.094358,
     "end_time": "2022-07-08T04:17:15.139549",
     "exception": false,
     "start_time": "2022-07-08T04:17:15.045191",
     "status": "completed"
    },
    "tags": []
   },
   "outputs": [
    {
     "data": {
      "text/plain": [
       "0          5\n",
       "1         39\n",
       "2         11\n",
       "3          5\n",
       "4         37\n",
       "          ..\n",
       "307506    43\n",
       "307507    57\n",
       "307508    39\n",
       "307509     3\n",
       "307510     5\n",
       "Name: ORGANIZATION_TYPE, Length: 307511, dtype: int64"
      ]
     },
     "execution_count": 24,
     "metadata": {},
     "output_type": "execute_result"
    }
   ],
   "source": [
    "# Import label encoder\n",
    "from sklearn import preprocessing\n",
    "\n",
    "# label_encoder object knows how to understand word labels.\n",
    "label_encoder = preprocessing.LabelEncoder()\n",
    "\n",
    "# Encode labels in column 'species'.\n",
    "df['ORGANIZATION_TYPE']= label_encoder.fit_transform(df['ORGANIZATION_TYPE'])\n",
    "\n",
    "df['ORGANIZATION_TYPE']"
   ]
  },
  {
   "cell_type": "markdown",
   "id": "9cbf8155",
   "metadata": {
    "papermill": {
     "duration": 0.013208,
     "end_time": "2022-07-08T04:17:15.166520",
     "exception": false,
     "start_time": "2022-07-08T04:17:15.153312",
     "status": "completed"
    },
    "tags": []
   },
   "source": [
    "**Find out Statistical values**"
   ]
  },
  {
   "cell_type": "code",
   "execution_count": 25,
   "id": "3dbc719a",
   "metadata": {
    "execution": {
     "iopub.execute_input": "2022-07-08T04:17:15.195976Z",
     "iopub.status.busy": "2022-07-08T04:17:15.194747Z",
     "iopub.status.idle": "2022-07-08T04:17:15.465758Z",
     "shell.execute_reply": "2022-07-08T04:17:15.464500Z"
    },
    "papermill": {
     "duration": 0.289507,
     "end_time": "2022-07-08T04:17:15.469424",
     "exception": false,
     "start_time": "2022-07-08T04:17:15.179917",
     "status": "completed"
    },
    "tags": []
   },
   "outputs": [
    {
     "name": "stdout",
     "output_type": "stream",
     "text": [
      "column name SK_ID_CURR\n",
      "mean: 278180.51857657125\n",
      "mode: 100002\n",
      "median: 278202.0\n",
      "skewness: -0.0012002350768207104\n",
      "kurtosis: -1.1989877778996432\n",
      "null_value count: 0\n",
      "\n",
      "\n",
      "column name TARGET\n",
      "mean: 0.08072881945686496\n",
      "mode: 0\n",
      "median: 0.0\n",
      "skewness: 3.0781586659196685\n",
      "kurtosis: 7.475109389392569\n",
      "null_value count: 0\n",
      "\n",
      "\n",
      "column name AMT_INCOME_TOTAL\n",
      "mean: 168797.9192969845\n",
      "mode: 135000.0\n",
      "median: 147150.0\n",
      "skewness: 391.5596541041876\n",
      "kurtosis: 191786.55438080415\n",
      "null_value count: 0\n",
      "\n",
      "\n",
      "column name AMT_CREDIT\n",
      "mean: 599025.9997057016\n",
      "mode: 450000.0\n",
      "median: 513531.0\n",
      "skewness: 1.2347784971349398\n",
      "kurtosis: 1.9340413008324937\n",
      "null_value count: 0\n",
      "\n",
      "\n",
      "column name AMT_ANNUITY\n",
      "mean: 27108.48784108536\n",
      "mode: 9000.0\n",
      "median: 24903.0\n",
      "skewness: 1.5798237246955467\n",
      "kurtosis: 7.7077559537369025\n",
      "null_value count: 0\n",
      "\n",
      "\n",
      "column name AMT_GOODS_PRICE\n",
      "mean: 538316.2943667056\n",
      "mode: 450000.0\n",
      "median: 450000.0\n",
      "skewness: 1.350142549635089\n",
      "kurtosis: 2.4374401731304225\n",
      "null_value count: 0\n",
      "\n",
      "\n",
      "column name NAME_INCOME_TYPE\n",
      "mean: 4.670288217332063\n",
      "mode: 7\n",
      "median: 7.0\n",
      "skewness: -0.3550757581538051\n",
      "kurtosis: -1.5948494738474766\n",
      "null_value count: 0\n",
      "\n",
      "\n",
      "column name HOUR_APPR_PROCESS_START\n",
      "mean: 12.063418869568894\n",
      "mode: 10\n",
      "median: 12.0\n",
      "skewness: -0.02802445946067513\n",
      "kurtosis: -0.19417286553041757\n",
      "null_value count: 0\n",
      "\n",
      "\n",
      "column name ORGANIZATION_TYPE\n",
      "mean: 29.450429415533105\n",
      "mode: 5\n",
      "median: 33.0\n",
      "skewness: -0.022512675713170067\n",
      "kurtosis: -1.5467897462757254\n",
      "null_value count: 0\n",
      "\n",
      "\n"
     ]
    }
   ],
   "source": [
    "for col in df.columns:\n",
    "    if df[col].dtypes != object:\n",
    "        q1 = df[col].quantile(0.25)\n",
    "        q3 = df[col].quantile(0.75)\n",
    "        IQR = q3 - q1\n",
    "        llp = q1-1.5*IQR\n",
    "        ulp = q3+1.5*IQR\n",
    "        print('column name',col)\n",
    "        print('mean:',df[col].mean())\n",
    "        print('mode:',df[col].mode()[0])\n",
    "        print('median:',df[col].median())\n",
    "        print('skewness:',df[col].skew())\n",
    "        print('kurtosis:',df[col].kurtosis())\n",
    "        print('null_value count:',df[col].isnull().sum())\n",
    "        print('\\n')"
   ]
  },
  {
   "cell_type": "markdown",
   "id": "8b49af79",
   "metadata": {
    "papermill": {
     "duration": 0.012873,
     "end_time": "2022-07-08T04:17:15.496458",
     "exception": false,
     "start_time": "2022-07-08T04:17:15.483585",
     "status": "completed"
    },
    "tags": []
   },
   "source": [
    "**Outliers**"
   ]
  },
  {
   "cell_type": "markdown",
   "id": "f5df0078",
   "metadata": {
    "papermill": {
     "duration": 0.012945,
     "end_time": "2022-07-08T04:17:15.522885",
     "exception": false,
     "start_time": "2022-07-08T04:17:15.509940",
     "status": "completed"
    },
    "tags": []
   },
   "source": [
    "A data point that is an outlier in a data graph or dataset you are dealing with is one that is extraordinarily high or extraordinarily low in comparison to the nearest data point and the rest of the nearby coexisting values. Outliers in a dataset or graph are extreme values that stand out significantly from the main pattern of values."
   ]
  },
  {
   "cell_type": "code",
   "execution_count": 26,
   "id": "33e0d12e",
   "metadata": {
    "execution": {
     "iopub.execute_input": "2022-07-08T04:17:15.551636Z",
     "iopub.status.busy": "2022-07-08T04:17:15.550908Z",
     "iopub.status.idle": "2022-07-08T04:17:16.663742Z",
     "shell.execute_reply": "2022-07-08T04:17:16.662559Z"
    },
    "papermill": {
     "duration": 1.130249,
     "end_time": "2022-07-08T04:17:16.666389",
     "exception": false,
     "start_time": "2022-07-08T04:17:15.536140",
     "status": "completed"
    },
    "tags": []
   },
   "outputs": [
    {
     "data": {
      "image/png": "[encoded data removed]",
      "text/plain": [
       "<Figure size 1800x792 with 9 Axes>"
      ]
     },
     "metadata": {
      "needs_background": "light"
     },
     "output_type": "display_data"
    }
   ],
   "source": [
    "#checking outliers\n",
    "#Outlier Search: This helps you to get some insights about the outliers in the data.\n",
    "df.plot(kind='box', layout=(3,3),subplots=1,figsize=(25,11))\n",
    "plt.show()"
   ]
  },
  {
   "cell_type": "code",
   "execution_count": 27,
   "id": "6d36ebbb",
   "metadata": {
    "execution": {
     "iopub.execute_input": "2022-07-08T04:17:16.697713Z",
     "iopub.status.busy": "2022-07-08T04:17:16.696875Z",
     "iopub.status.idle": "2022-07-08T04:17:16.706023Z",
     "shell.execute_reply": "2022-07-08T04:17:16.705113Z"
    },
    "papermill": {
     "duration": 0.028152,
     "end_time": "2022-07-08T04:17:16.708648",
     "exception": false,
     "start_time": "2022-07-08T04:17:16.680496",
     "status": "completed"
    },
    "tags": []
   },
   "outputs": [],
   "source": [
    "def out_to_null(data=df):\n",
    "    for x in df.columns:\n",
    "        if df[x].dtypes ==np.float64:\n",
    "            #In the given column the outliers will convert into null values\n",
    "            print('\\n\\n Column name:', x)\n",
    "            q1=data[x].quantile(0.25)\n",
    "            print('Quatile, Q1: ',q1)\n",
    "            q3=data[x].quantile(0.75)\n",
    "            print('Quatile, Q3: ',q3)\n",
    "            iqr=q3-q1\n",
    "            print('Inter Quatile Range, IQR: ',iqr)\n",
    "            ulp=q3+(1.5*iqr)\n",
    "            print('Upper Limit Point, ULP: ',ulp)\n",
    "            llp=q1-(1.5*iqr)\n",
    "            print('Lower Limit Point, LLP: ',llp)\n",
    "            #here the values which are above upperlimit and below lowerlimt are replaced with null values          \n",
    "            data[x]=np.where(data[x] > ulp,np.nan,\n",
    "                                   np.where(data[x] < llp,np.nan ,data[x]))\n",
    "            print('\\n\\nin the given column the outliers are replaced with null values\\n')"
   ]
  },
  {
   "cell_type": "markdown",
   "id": "5f09119b",
   "metadata": {
    "papermill": {
     "duration": 0.022133,
     "end_time": "2022-07-08T04:17:16.745550",
     "exception": false,
     "start_time": "2022-07-08T04:17:16.723417",
     "status": "completed"
    },
    "tags": []
   },
   "source": [
    "**PairPlot**"
   ]
  },
  {
   "cell_type": "code",
   "execution_count": 28,
   "id": "644e2622",
   "metadata": {
    "execution": {
     "iopub.execute_input": "2022-07-08T04:17:16.781682Z",
     "iopub.status.busy": "2022-07-08T04:17:16.780553Z",
     "iopub.status.idle": "2022-07-08T04:17:29.367400Z",
     "shell.execute_reply": "2022-07-08T04:17:29.365895Z"
    },
    "papermill": {
     "duration": 12.607149,
     "end_time": "2022-07-08T04:17:29.370427",
     "exception": false,
     "start_time": "2022-07-08T04:17:16.763278",
     "status": "completed"
    },
    "tags": []
   },
   "outputs": [
    {
     "name": "stderr",
     "output_type": "stream",
     "text": [
      "/opt/conda/lib/python3.7/site-packages/seaborn/distributions.py:2619: FutureWarning: `distplot` is a deprecated function and will be removed in a future version. Please adapt your code to use either `displot` (a figure-level function with similar flexibility) or `histplot` (an axes-level function for histograms).\n",
      "  warnings.warn(msg, FutureWarning)\n",
      "/opt/conda/lib/python3.7/site-packages/seaborn/distributions.py:2619: FutureWarning: `distplot` is a deprecated function and will be removed in a future version. Please adapt your code to use either `displot` (a figure-level function with similar flexibility) or `histplot` (an axes-level function for histograms).\n",
      "  warnings.warn(msg, FutureWarning)\n",
      "/opt/conda/lib/python3.7/site-packages/seaborn/distributions.py:2619: FutureWarning: `distplot` is a deprecated function and will be removed in a future version. Please adapt your code to use either `displot` (a figure-level function with similar flexibility) or `histplot` (an axes-level function for histograms).\n",
      "  warnings.warn(msg, FutureWarning)\n",
      "/opt/conda/lib/python3.7/site-packages/seaborn/distributions.py:2619: FutureWarning: `distplot` is a deprecated function and will be removed in a future version. Please adapt your code to use either `displot` (a figure-level function with similar flexibility) or `histplot` (an axes-level function for histograms).\n",
      "  warnings.warn(msg, FutureWarning)\n",
      "/opt/conda/lib/python3.7/site-packages/seaborn/distributions.py:2619: FutureWarning: `distplot` is a deprecated function and will be removed in a future version. Please adapt your code to use either `displot` (a figure-level function with similar flexibility) or `histplot` (an axes-level function for histograms).\n",
      "  warnings.warn(msg, FutureWarning)\n",
      "/opt/conda/lib/python3.7/site-packages/seaborn/distributions.py:2619: FutureWarning: `distplot` is a deprecated function and will be removed in a future version. Please adapt your code to use either `displot` (a figure-level function with similar flexibility) or `histplot` (an axes-level function for histograms).\n",
      "  warnings.warn(msg, FutureWarning)\n",
      "/opt/conda/lib/python3.7/site-packages/seaborn/distributions.py:2619: FutureWarning: `distplot` is a deprecated function and will be removed in a future version. Please adapt your code to use either `displot` (a figure-level function with similar flexibility) or `histplot` (an axes-level function for histograms).\n",
      "  warnings.warn(msg, FutureWarning)\n",
      "/opt/conda/lib/python3.7/site-packages/seaborn/distributions.py:2619: FutureWarning: `distplot` is a deprecated function and will be removed in a future version. Please adapt your code to use either `displot` (a figure-level function with similar flexibility) or `histplot` (an axes-level function for histograms).\n",
      "  warnings.warn(msg, FutureWarning)\n",
      "/opt/conda/lib/python3.7/site-packages/seaborn/distributions.py:2619: FutureWarning: `distplot` is a deprecated function and will be removed in a future version. Please adapt your code to use either `displot` (a figure-level function with similar flexibility) or `histplot` (an axes-level function for histograms).\n",
      "  warnings.warn(msg, FutureWarning)\n"
     ]
    },
    {
     "data": {
      "image/png": "[encoded data removed]",
      "text/plain": [
       "<Figure size 2160x1800 with 9 Axes>"
      ]
     },
     "metadata": {
      "needs_background": "light"
     },
     "output_type": "display_data"
    }
   ],
   "source": [
    "count=1\n",
    "plt.subplots(figsize=(30,25))\n",
    "for i in df.columns:\n",
    "    if df[i].dtypes!='object':\n",
    "        plt.subplot(6,7,count)\n",
    "        sns.distplot(df[i])\n",
    "        count+=1\n",
    "\n",
    "plt.show()"
   ]
  },
  {
   "cell_type": "markdown",
   "id": "c9a70d6c",
   "metadata": {
    "papermill": {
     "duration": 0.016198,
     "end_time": "2022-07-08T04:17:29.403162",
     "exception": false,
     "start_time": "2022-07-08T04:17:29.386964",
     "status": "completed"
    },
    "tags": []
   },
   "source": [
    "**Correlation**"
   ]
  },
  {
   "cell_type": "markdown",
   "id": "c4f27d8a",
   "metadata": {
    "papermill": {
     "duration": 0.015898,
     "end_time": "2022-07-08T04:17:29.435485",
     "exception": false,
     "start_time": "2022-07-08T04:17:29.419587",
     "status": "completed"
    },
    "tags": []
   },
   "source": [
    "Correlation is the relationship between target variable and feature variables."
   ]
  },
  {
   "cell_type": "code",
   "execution_count": 29,
   "id": "1b2e8efa",
   "metadata": {
    "execution": {
     "iopub.execute_input": "2022-07-08T04:17:29.472033Z",
     "iopub.status.busy": "2022-07-08T04:17:29.470593Z",
     "iopub.status.idle": "2022-07-08T04:17:29.588900Z",
     "shell.execute_reply": "2022-07-08T04:17:29.587547Z"
    },
    "papermill": {
     "duration": 0.139002,
     "end_time": "2022-07-08T04:17:29.591357",
     "exception": false,
     "start_time": "2022-07-08T04:17:29.452355",
     "status": "completed"
    },
    "tags": []
   },
   "outputs": [
    {
     "data": {
      "text/html": [
       "<div>\n",
       "<style scoped>\n",
       "    .dataframe tbody tr th:only-of-type {\n",
       "        vertical-align: middle;\n",
       "    }\n",
       "\n",
       "    .dataframe tbody tr th {\n",
       "        vertical-align: top;\n",
       "    }\n",
       "\n",
       "    .dataframe thead th {\n",
       "        text-align: right;\n",
       "    }\n",
       "</style>\n",
       "<table border=\"1\" class=\"dataframe\">\n",
       "  <thead>\n",
       "    <tr style=\"text-align: right;\">\n",
       "      <th></th>\n",
       "      <th>SK_ID_CURR</th>\n",
       "      <th>TARGET</th>\n",
       "      <th>AMT_INCOME_TOTAL</th>\n",
       "      <th>AMT_CREDIT</th>\n",
       "      <th>AMT_ANNUITY</th>\n",
       "      <th>AMT_GOODS_PRICE</th>\n",
       "      <th>NAME_INCOME_TYPE</th>\n",
       "      <th>HOUR_APPR_PROCESS_START</th>\n",
       "      <th>ORGANIZATION_TYPE</th>\n",
       "    </tr>\n",
       "  </thead>\n",
       "  <tbody>\n",
       "    <tr>\n",
       "      <th>SK_ID_CURR</th>\n",
       "      <td>1.000000</td>\n",
       "      <td>-0.002108</td>\n",
       "      <td>-0.001820</td>\n",
       "      <td>-0.000343</td>\n",
       "      <td>-0.000431</td>\n",
       "      <td>-0.000258</td>\n",
       "      <td>-0.002112</td>\n",
       "      <td>0.000350</td>\n",
       "      <td>0.002269</td>\n",
       "    </tr>\n",
       "    <tr>\n",
       "      <th>TARGET</th>\n",
       "      <td>-0.002108</td>\n",
       "      <td>1.000000</td>\n",
       "      <td>-0.003982</td>\n",
       "      <td>-0.030369</td>\n",
       "      <td>-0.012815</td>\n",
       "      <td>-0.039623</td>\n",
       "      <td>0.046829</td>\n",
       "      <td>-0.024166</td>\n",
       "      <td>-0.030765</td>\n",
       "    </tr>\n",
       "    <tr>\n",
       "      <th>AMT_INCOME_TOTAL</th>\n",
       "      <td>-0.001820</td>\n",
       "      <td>-0.003982</td>\n",
       "      <td>1.000000</td>\n",
       "      <td>0.156870</td>\n",
       "      <td>0.191657</td>\n",
       "      <td>0.159632</td>\n",
       "      <td>-0.044451</td>\n",
       "      <td>0.036459</td>\n",
       "      <td>-0.058272</td>\n",
       "    </tr>\n",
       "    <tr>\n",
       "      <th>AMT_CREDIT</th>\n",
       "      <td>-0.000343</td>\n",
       "      <td>-0.030369</td>\n",
       "      <td>0.156870</td>\n",
       "      <td>1.000000</td>\n",
       "      <td>0.770127</td>\n",
       "      <td>0.986734</td>\n",
       "      <td>-0.071794</td>\n",
       "      <td>0.052738</td>\n",
       "      <td>-0.052620</td>\n",
       "    </tr>\n",
       "    <tr>\n",
       "      <th>AMT_ANNUITY</th>\n",
       "      <td>-0.000431</td>\n",
       "      <td>-0.012815</td>\n",
       "      <td>0.191657</td>\n",
       "      <td>0.770127</td>\n",
       "      <td>1.000000</td>\n",
       "      <td>0.774837</td>\n",
       "      <td>-0.073018</td>\n",
       "      <td>0.052265</td>\n",
       "      <td>-0.077215</td>\n",
       "    </tr>\n",
       "    <tr>\n",
       "      <th>AMT_GOODS_PRICE</th>\n",
       "      <td>-0.000258</td>\n",
       "      <td>-0.039623</td>\n",
       "      <td>0.159632</td>\n",
       "      <td>0.986734</td>\n",
       "      <td>0.774837</td>\n",
       "      <td>1.000000</td>\n",
       "      <td>-0.072458</td>\n",
       "      <td>0.062269</td>\n",
       "      <td>-0.052060</td>\n",
       "    </tr>\n",
       "    <tr>\n",
       "      <th>NAME_INCOME_TYPE</th>\n",
       "      <td>-0.002112</td>\n",
       "      <td>0.046829</td>\n",
       "      <td>-0.044451</td>\n",
       "      <td>-0.071794</td>\n",
       "      <td>-0.073018</td>\n",
       "      <td>-0.072458</td>\n",
       "      <td>1.000000</td>\n",
       "      <td>-0.029674</td>\n",
       "      <td>-0.176226</td>\n",
       "    </tr>\n",
       "    <tr>\n",
       "      <th>HOUR_APPR_PROCESS_START</th>\n",
       "      <td>0.000350</td>\n",
       "      <td>-0.024166</td>\n",
       "      <td>0.036459</td>\n",
       "      <td>0.052738</td>\n",
       "      <td>0.052265</td>\n",
       "      <td>0.062269</td>\n",
       "      <td>-0.029674</td>\n",
       "      <td>1.000000</td>\n",
       "      <td>-0.083595</td>\n",
       "    </tr>\n",
       "    <tr>\n",
       "      <th>ORGANIZATION_TYPE</th>\n",
       "      <td>0.002269</td>\n",
       "      <td>-0.030765</td>\n",
       "      <td>-0.058272</td>\n",
       "      <td>-0.052620</td>\n",
       "      <td>-0.077215</td>\n",
       "      <td>-0.052060</td>\n",
       "      <td>-0.176226</td>\n",
       "      <td>-0.083595</td>\n",
       "      <td>1.000000</td>\n",
       "    </tr>\n",
       "  </tbody>\n",
       "</table>\n",
       "</div>"
      ],
      "text/plain": [
       "                         SK_ID_CURR    TARGET  AMT_INCOME_TOTAL  AMT_CREDIT  \\\n",
       "SK_ID_CURR                 1.000000 -0.002108         -0.001820   -0.000343   \n",
       "TARGET                    -0.002108  1.000000         -0.003982   -0.030369   \n",
       "AMT_INCOME_TOTAL          -0.001820 -0.003982          1.000000    0.156870   \n",
       "AMT_CREDIT                -0.000343 -0.030369          0.156870    1.000000   \n",
       "AMT_ANNUITY               -0.000431 -0.012815          0.191657    0.770127   \n",
       "AMT_GOODS_PRICE           -0.000258 -0.039623          0.159632    0.986734   \n",
       "NAME_INCOME_TYPE          -0.002112  0.046829         -0.044451   -0.071794   \n",
       "HOUR_APPR_PROCESS_START    0.000350 -0.024166          0.036459    0.052738   \n",
       "ORGANIZATION_TYPE          0.002269 -0.030765         -0.058272   -0.052620   \n",
       "\n",
       "                         AMT_ANNUITY  AMT_GOODS_PRICE  NAME_INCOME_TYPE  \\\n",
       "SK_ID_CURR                 -0.000431        -0.000258         -0.002112   \n",
       "TARGET                     -0.012815        -0.039623          0.046829   \n",
       "AMT_INCOME_TOTAL            0.191657         0.159632         -0.044451   \n",
       "AMT_CREDIT                  0.770127         0.986734         -0.071794   \n",
       "AMT_ANNUITY                 1.000000         0.774837         -0.073018   \n",
       "AMT_GOODS_PRICE             0.774837         1.000000         -0.072458   \n",
       "NAME_INCOME_TYPE           -0.073018        -0.072458          1.000000   \n",
       "HOUR_APPR_PROCESS_START     0.052265         0.062269         -0.029674   \n",
       "ORGANIZATION_TYPE          -0.077215        -0.052060         -0.176226   \n",
       "\n",
       "                         HOUR_APPR_PROCESS_START  ORGANIZATION_TYPE  \n",
       "SK_ID_CURR                              0.000350           0.002269  \n",
       "TARGET                                 -0.024166          -0.030765  \n",
       "AMT_INCOME_TOTAL                        0.036459          -0.058272  \n",
       "AMT_CREDIT                              0.052738          -0.052620  \n",
       "AMT_ANNUITY                             0.052265          -0.077215  \n",
       "AMT_GOODS_PRICE                         0.062269          -0.052060  \n",
       "NAME_INCOME_TYPE                       -0.029674          -0.176226  \n",
       "HOUR_APPR_PROCESS_START                 1.000000          -0.083595  \n",
       "ORGANIZATION_TYPE                      -0.083595           1.000000  "
      ]
     },
     "execution_count": 29,
     "metadata": {},
     "output_type": "execute_result"
    }
   ],
   "source": [
    "cor = df.corr()\n",
    "cor"
   ]
  },
  {
   "cell_type": "markdown",
   "id": "409283ca",
   "metadata": {
    "papermill": {
     "duration": 0.017099,
     "end_time": "2022-07-08T04:17:29.625111",
     "exception": false,
     "start_time": "2022-07-08T04:17:29.608012",
     "status": "completed"
    },
    "tags": []
   },
   "source": [
    "**HeatMap**"
   ]
  },
  {
   "cell_type": "code",
   "execution_count": 30,
   "id": "ce2e0a0f",
   "metadata": {
    "execution": {
     "iopub.execute_input": "2022-07-08T04:17:29.661420Z",
     "iopub.status.busy": "2022-07-08T04:17:29.660651Z",
     "iopub.status.idle": "2022-07-08T04:17:30.343958Z",
     "shell.execute_reply": "2022-07-08T04:17:30.342695Z"
    },
    "papermill": {
     "duration": 0.704175,
     "end_time": "2022-07-08T04:17:30.346488",
     "exception": false,
     "start_time": "2022-07-08T04:17:29.642313",
     "status": "completed"
    },
    "tags": []
   },
   "outputs": [
    {
     "data": {
      "image/png": "[encoded data removed]",
      "text/plain": [
       "<Figure size 432x288 with 2 Axes>"
      ]
     },
     "metadata": {
      "needs_background": "light"
     },
     "output_type": "display_data"
    }
   ],
   "source": [
    "ax = sns.heatmap(df.corr(), annot=True)\n",
    "plt.show()"
   ]
  },
  {
   "cell_type": "code",
   "execution_count": 31,
   "id": "e5c392ba",
   "metadata": {
    "execution": {
     "iopub.execute_input": "2022-07-08T04:17:30.384488Z",
     "iopub.status.busy": "2022-07-08T04:17:30.383679Z",
     "iopub.status.idle": "2022-07-08T04:17:30.402838Z",
     "shell.execute_reply": "2022-07-08T04:17:30.401555Z"
    },
    "id": "JzU5A_8sPPKW",
    "outputId": "76cf637a-556d-482b-b633-e3121ac471db",
    "papermill": {
     "duration": 0.041104,
     "end_time": "2022-07-08T04:17:30.405384",
     "exception": false,
     "start_time": "2022-07-08T04:17:30.364280",
     "status": "completed"
    },
    "tags": []
   },
   "outputs": [
    {
     "data": {
      "text/html": [
       "<div>\n",
       "<style scoped>\n",
       "    .dataframe tbody tr th:only-of-type {\n",
       "        vertical-align: middle;\n",
       "    }\n",
       "\n",
       "    .dataframe tbody tr th {\n",
       "        vertical-align: top;\n",
       "    }\n",
       "\n",
       "    .dataframe thead th {\n",
       "        text-align: right;\n",
       "    }\n",
       "</style>\n",
       "<table border=\"1\" class=\"dataframe\">\n",
       "  <thead>\n",
       "    <tr style=\"text-align: right;\">\n",
       "      <th></th>\n",
       "      <th>SK_ID_CURR</th>\n",
       "      <th>TARGET</th>\n",
       "      <th>AMT_INCOME_TOTAL</th>\n",
       "      <th>AMT_CREDIT</th>\n",
       "      <th>AMT_ANNUITY</th>\n",
       "      <th>AMT_GOODS_PRICE</th>\n",
       "      <th>NAME_INCOME_TYPE</th>\n",
       "      <th>HOUR_APPR_PROCESS_START</th>\n",
       "      <th>ORGANIZATION_TYPE</th>\n",
       "    </tr>\n",
       "  </thead>\n",
       "  <tbody>\n",
       "    <tr>\n",
       "      <th>0</th>\n",
       "      <td>100002</td>\n",
       "      <td>1</td>\n",
       "      <td>202500.0</td>\n",
       "      <td>406597.5</td>\n",
       "      <td>24700.5</td>\n",
       "      <td>351000.0</td>\n",
       "      <td>7</td>\n",
       "      <td>10</td>\n",
       "      <td>5</td>\n",
       "    </tr>\n",
       "    <tr>\n",
       "      <th>1</th>\n",
       "      <td>100003</td>\n",
       "      <td>0</td>\n",
       "      <td>270000.0</td>\n",
       "      <td>1293502.5</td>\n",
       "      <td>35698.5</td>\n",
       "      <td>1129500.0</td>\n",
       "      <td>4</td>\n",
       "      <td>11</td>\n",
       "      <td>39</td>\n",
       "    </tr>\n",
       "    <tr>\n",
       "      <th>2</th>\n",
       "      <td>100004</td>\n",
       "      <td>0</td>\n",
       "      <td>67500.0</td>\n",
       "      <td>135000.0</td>\n",
       "      <td>6750.0</td>\n",
       "      <td>135000.0</td>\n",
       "      <td>7</td>\n",
       "      <td>9</td>\n",
       "      <td>11</td>\n",
       "    </tr>\n",
       "    <tr>\n",
       "      <th>3</th>\n",
       "      <td>100006</td>\n",
       "      <td>0</td>\n",
       "      <td>135000.0</td>\n",
       "      <td>312682.5</td>\n",
       "      <td>29686.5</td>\n",
       "      <td>297000.0</td>\n",
       "      <td>7</td>\n",
       "      <td>17</td>\n",
       "      <td>5</td>\n",
       "    </tr>\n",
       "    <tr>\n",
       "      <th>4</th>\n",
       "      <td>100007</td>\n",
       "      <td>0</td>\n",
       "      <td>121500.0</td>\n",
       "      <td>513000.0</td>\n",
       "      <td>21865.5</td>\n",
       "      <td>513000.0</td>\n",
       "      <td>7</td>\n",
       "      <td>11</td>\n",
       "      <td>37</td>\n",
       "    </tr>\n",
       "    <tr>\n",
       "      <th>...</th>\n",
       "      <td>...</td>\n",
       "      <td>...</td>\n",
       "      <td>...</td>\n",
       "      <td>...</td>\n",
       "      <td>...</td>\n",
       "      <td>...</td>\n",
       "      <td>...</td>\n",
       "      <td>...</td>\n",
       "      <td>...</td>\n",
       "    </tr>\n",
       "    <tr>\n",
       "      <th>307506</th>\n",
       "      <td>456251</td>\n",
       "      <td>0</td>\n",
       "      <td>157500.0</td>\n",
       "      <td>254700.0</td>\n",
       "      <td>27558.0</td>\n",
       "      <td>225000.0</td>\n",
       "      <td>7</td>\n",
       "      <td>15</td>\n",
       "      <td>43</td>\n",
       "    </tr>\n",
       "    <tr>\n",
       "      <th>307507</th>\n",
       "      <td>456252</td>\n",
       "      <td>0</td>\n",
       "      <td>72000.0</td>\n",
       "      <td>269550.0</td>\n",
       "      <td>12001.5</td>\n",
       "      <td>225000.0</td>\n",
       "      <td>3</td>\n",
       "      <td>8</td>\n",
       "      <td>57</td>\n",
       "    </tr>\n",
       "    <tr>\n",
       "      <th>307508</th>\n",
       "      <td>456253</td>\n",
       "      <td>0</td>\n",
       "      <td>153000.0</td>\n",
       "      <td>677664.0</td>\n",
       "      <td>29979.0</td>\n",
       "      <td>585000.0</td>\n",
       "      <td>7</td>\n",
       "      <td>9</td>\n",
       "      <td>39</td>\n",
       "    </tr>\n",
       "    <tr>\n",
       "      <th>307509</th>\n",
       "      <td>456254</td>\n",
       "      <td>1</td>\n",
       "      <td>171000.0</td>\n",
       "      <td>370107.0</td>\n",
       "      <td>20205.0</td>\n",
       "      <td>319500.0</td>\n",
       "      <td>1</td>\n",
       "      <td>9</td>\n",
       "      <td>3</td>\n",
       "    </tr>\n",
       "    <tr>\n",
       "      <th>307510</th>\n",
       "      <td>456255</td>\n",
       "      <td>0</td>\n",
       "      <td>157500.0</td>\n",
       "      <td>675000.0</td>\n",
       "      <td>49117.5</td>\n",
       "      <td>675000.0</td>\n",
       "      <td>1</td>\n",
       "      <td>20</td>\n",
       "      <td>5</td>\n",
       "    </tr>\n",
       "  </tbody>\n",
       "</table>\n",
       "<p>307511 rows × 9 columns</p>\n",
       "</div>"
      ],
      "text/plain": [
       "        SK_ID_CURR  TARGET  AMT_INCOME_TOTAL  AMT_CREDIT  AMT_ANNUITY  \\\n",
       "0           100002       1          202500.0    406597.5      24700.5   \n",
       "1           100003       0          270000.0   1293502.5      35698.5   \n",
       "2           100004       0           67500.0    135000.0       6750.0   \n",
       "3           100006       0          135000.0    312682.5      29686.5   \n",
       "4           100007       0          121500.0    513000.0      21865.5   \n",
       "...            ...     ...               ...         ...          ...   \n",
       "307506      456251       0          157500.0    254700.0      27558.0   \n",
       "307507      456252       0           72000.0    269550.0      12001.5   \n",
       "307508      456253       0          153000.0    677664.0      29979.0   \n",
       "307509      456254       1          171000.0    370107.0      20205.0   \n",
       "307510      456255       0          157500.0    675000.0      49117.5   \n",
       "\n",
       "        AMT_GOODS_PRICE  NAME_INCOME_TYPE  HOUR_APPR_PROCESS_START  \\\n",
       "0              351000.0                 7                       10   \n",
       "1             1129500.0                 4                       11   \n",
       "2              135000.0                 7                        9   \n",
       "3              297000.0                 7                       17   \n",
       "4              513000.0                 7                       11   \n",
       "...                 ...               ...                      ...   \n",
       "307506         225000.0                 7                       15   \n",
       "307507         225000.0                 3                        8   \n",
       "307508         585000.0                 7                        9   \n",
       "307509         319500.0                 1                        9   \n",
       "307510         675000.0                 1                       20   \n",
       "\n",
       "        ORGANIZATION_TYPE  \n",
       "0                       5  \n",
       "1                      39  \n",
       "2                      11  \n",
       "3                       5  \n",
       "4                      37  \n",
       "...                   ...  \n",
       "307506                 43  \n",
       "307507                 57  \n",
       "307508                 39  \n",
       "307509                  3  \n",
       "307510                  5  \n",
       "\n",
       "[307511 rows x 9 columns]"
      ]
     },
     "execution_count": 31,
     "metadata": {},
     "output_type": "execute_result"
    }
   ],
   "source": [
    "df"
   ]
  },
  {
   "cell_type": "markdown",
   "id": "149c319d",
   "metadata": {
    "papermill": {
     "duration": 0.017792,
     "end_time": "2022-07-08T04:17:30.441293",
     "exception": false,
     "start_time": "2022-07-08T04:17:30.423501",
     "status": "completed"
    },
    "tags": []
   },
   "source": [
    "**Feature Selection**"
   ]
  },
  {
   "cell_type": "markdown",
   "id": "562fe4e8",
   "metadata": {
    "papermill": {
     "duration": 0.017547,
     "end_time": "2022-07-08T04:17:30.476860",
     "exception": false,
     "start_time": "2022-07-08T04:17:30.459313",
     "status": "completed"
    },
    "tags": []
   },
   "source": [
    "Feature selection is the process of reducing the number of input variables when developing a predictive model. It is desirable to reduce the number of input variables to both reduce the computational cost of modeling and, in some cases, to improve the performance of the model."
   ]
  },
  {
   "cell_type": "code",
   "execution_count": 32,
   "id": "708d7f7e",
   "metadata": {
    "execution": {
     "iopub.execute_input": "2022-07-08T04:17:30.514420Z",
     "iopub.status.busy": "2022-07-08T04:17:30.513613Z",
     "iopub.status.idle": "2022-07-08T04:17:30.534914Z",
     "shell.execute_reply": "2022-07-08T04:17:30.533614Z"
    },
    "id": "6-fpciDfQBV_",
    "papermill": {
     "duration": 0.043189,
     "end_time": "2022-07-08T04:17:30.537682",
     "exception": false,
     "start_time": "2022-07-08T04:17:30.494493",
     "status": "completed"
    },
    "tags": []
   },
   "outputs": [],
   "source": [
    "X = df.drop(\"TARGET\",axis=1)\n",
    "y = df.TARGET"
   ]
  },
  {
   "cell_type": "code",
   "execution_count": 33,
   "id": "0ccc0e97",
   "metadata": {
    "execution": {
     "iopub.execute_input": "2022-07-08T04:17:30.575393Z",
     "iopub.status.busy": "2022-07-08T04:17:30.574969Z",
     "iopub.status.idle": "2022-07-08T04:17:30.581248Z",
     "shell.execute_reply": "2022-07-08T04:17:30.580191Z"
    },
    "id": "dqQt88FXQWpT",
    "outputId": "70e07522-f973-47fd-c565-5164a8f3d369",
    "papermill": {
     "duration": 0.027526,
     "end_time": "2022-07-08T04:17:30.583221",
     "exception": false,
     "start_time": "2022-07-08T04:17:30.555695",
     "status": "completed"
    },
    "tags": []
   },
   "outputs": [
    {
     "data": {
      "text/plain": [
       "(307511, 8)"
      ]
     },
     "execution_count": 33,
     "metadata": {},
     "output_type": "execute_result"
    }
   ],
   "source": [
    "X.shape"
   ]
  },
  {
   "cell_type": "markdown",
   "id": "01e03324",
   "metadata": {
    "papermill": {
     "duration": 0.017178,
     "end_time": "2022-07-08T04:17:30.617872",
     "exception": false,
     "start_time": "2022-07-08T04:17:30.600694",
     "status": "completed"
    },
    "tags": []
   },
   "source": [
    "**Train, Test and Split**"
   ]
  },
  {
   "cell_type": "code",
   "execution_count": 34,
   "id": "ee1b654c",
   "metadata": {
    "execution": {
     "iopub.execute_input": "2022-07-08T04:17:30.655160Z",
     "iopub.status.busy": "2022-07-08T04:17:30.654348Z",
     "iopub.status.idle": "2022-07-08T04:17:30.717601Z",
     "shell.execute_reply": "2022-07-08T04:17:30.716523Z"
    },
    "id": "Vu8UrwyUQfUh",
    "outputId": "69d613bf-5c12-4943-e1b6-dc1f18cd5b5d",
    "papermill": {
     "duration": 0.084934,
     "end_time": "2022-07-08T04:17:30.720228",
     "exception": false,
     "start_time": "2022-07-08T04:17:30.635294",
     "status": "completed"
    },
    "tags": []
   },
   "outputs": [
    {
     "data": {
      "text/plain": [
       "((215257, 8), (92254, 8))"
      ]
     },
     "execution_count": 34,
     "metadata": {},
     "output_type": "execute_result"
    }
   ],
   "source": [
    "from sklearn.model_selection import train_test_split \n",
    "X_train,X_test,y_train,y_test=train_test_split(X,y,test_size=0.3,random_state=1)\n",
    "\n",
    "X_train.shape,X_test.shape"
   ]
  },
  {
   "cell_type": "code",
   "execution_count": 35,
   "id": "2f379e9e",
   "metadata": {
    "execution": {
     "iopub.execute_input": "2022-07-08T04:17:30.758517Z",
     "iopub.status.busy": "2022-07-08T04:17:30.758080Z",
     "iopub.status.idle": "2022-07-08T04:17:30.776418Z",
     "shell.execute_reply": "2022-07-08T04:17:30.775526Z"
    },
    "papermill": {
     "duration": 0.04013,
     "end_time": "2022-07-08T04:17:30.778382",
     "exception": false,
     "start_time": "2022-07-08T04:17:30.738252",
     "status": "completed"
    },
    "tags": []
   },
   "outputs": [
    {
     "data": {
      "text/html": [
       "<div>\n",
       "<style scoped>\n",
       "    .dataframe tbody tr th:only-of-type {\n",
       "        vertical-align: middle;\n",
       "    }\n",
       "\n",
       "    .dataframe tbody tr th {\n",
       "        vertical-align: top;\n",
       "    }\n",
       "\n",
       "    .dataframe thead th {\n",
       "        text-align: right;\n",
       "    }\n",
       "</style>\n",
       "<table border=\"1\" class=\"dataframe\">\n",
       "  <thead>\n",
       "    <tr style=\"text-align: right;\">\n",
       "      <th></th>\n",
       "      <th>SK_ID_CURR</th>\n",
       "      <th>AMT_INCOME_TOTAL</th>\n",
       "      <th>AMT_CREDIT</th>\n",
       "      <th>AMT_ANNUITY</th>\n",
       "      <th>AMT_GOODS_PRICE</th>\n",
       "      <th>NAME_INCOME_TYPE</th>\n",
       "      <th>HOUR_APPR_PROCESS_START</th>\n",
       "      <th>ORGANIZATION_TYPE</th>\n",
       "    </tr>\n",
       "  </thead>\n",
       "  <tbody>\n",
       "    <tr>\n",
       "      <th>208983</th>\n",
       "      <td>342217</td>\n",
       "      <td>202500.0</td>\n",
       "      <td>585000.0</td>\n",
       "      <td>29250.0</td>\n",
       "      <td>585000.0</td>\n",
       "      <td>4</td>\n",
       "      <td>10</td>\n",
       "      <td>11</td>\n",
       "    </tr>\n",
       "    <tr>\n",
       "      <th>71687</th>\n",
       "      <td>183133</td>\n",
       "      <td>112500.0</td>\n",
       "      <td>656811.0</td>\n",
       "      <td>30564.0</td>\n",
       "      <td>567000.0</td>\n",
       "      <td>3</td>\n",
       "      <td>11</td>\n",
       "      <td>57</td>\n",
       "    </tr>\n",
       "    <tr>\n",
       "      <th>301340</th>\n",
       "      <td>449106</td>\n",
       "      <td>144000.0</td>\n",
       "      <td>450000.0</td>\n",
       "      <td>22500.0</td>\n",
       "      <td>450000.0</td>\n",
       "      <td>1</td>\n",
       "      <td>10</td>\n",
       "      <td>4</td>\n",
       "    </tr>\n",
       "    <tr>\n",
       "      <th>216927</th>\n",
       "      <td>351350</td>\n",
       "      <td>450000.0</td>\n",
       "      <td>1483231.5</td>\n",
       "      <td>51687.0</td>\n",
       "      <td>1354500.0</td>\n",
       "      <td>4</td>\n",
       "      <td>18</td>\n",
       "      <td>41</td>\n",
       "    </tr>\n",
       "    <tr>\n",
       "      <th>109091</th>\n",
       "      <td>226525</td>\n",
       "      <td>202500.0</td>\n",
       "      <td>454500.0</td>\n",
       "      <td>19255.5</td>\n",
       "      <td>454500.0</td>\n",
       "      <td>1</td>\n",
       "      <td>9</td>\n",
       "      <td>5</td>\n",
       "    </tr>\n",
       "    <tr>\n",
       "      <th>...</th>\n",
       "      <td>...</td>\n",
       "      <td>...</td>\n",
       "      <td>...</td>\n",
       "      <td>...</td>\n",
       "      <td>...</td>\n",
       "      <td>...</td>\n",
       "      <td>...</td>\n",
       "      <td>...</td>\n",
       "    </tr>\n",
       "    <tr>\n",
       "      <th>21440</th>\n",
       "      <td>124980</td>\n",
       "      <td>292500.0</td>\n",
       "      <td>2013840.0</td>\n",
       "      <td>53253.0</td>\n",
       "      <td>1800000.0</td>\n",
       "      <td>7</td>\n",
       "      <td>11</td>\n",
       "      <td>55</td>\n",
       "    </tr>\n",
       "    <tr>\n",
       "      <th>117583</th>\n",
       "      <td>236346</td>\n",
       "      <td>157500.0</td>\n",
       "      <td>599778.0</td>\n",
       "      <td>32665.5</td>\n",
       "      <td>477000.0</td>\n",
       "      <td>7</td>\n",
       "      <td>6</td>\n",
       "      <td>11</td>\n",
       "    </tr>\n",
       "    <tr>\n",
       "      <th>73349</th>\n",
       "      <td>185050</td>\n",
       "      <td>135000.0</td>\n",
       "      <td>270000.0</td>\n",
       "      <td>13500.0</td>\n",
       "      <td>270000.0</td>\n",
       "      <td>1</td>\n",
       "      <td>12</td>\n",
       "      <td>5</td>\n",
       "    </tr>\n",
       "    <tr>\n",
       "      <th>267336</th>\n",
       "      <td>409734</td>\n",
       "      <td>135000.0</td>\n",
       "      <td>781920.0</td>\n",
       "      <td>47835.0</td>\n",
       "      <td>675000.0</td>\n",
       "      <td>7</td>\n",
       "      <td>14</td>\n",
       "      <td>40</td>\n",
       "    </tr>\n",
       "    <tr>\n",
       "      <th>128037</th>\n",
       "      <td>248507</td>\n",
       "      <td>112500.0</td>\n",
       "      <td>315000.0</td>\n",
       "      <td>15448.5</td>\n",
       "      <td>315000.0</td>\n",
       "      <td>1</td>\n",
       "      <td>13</td>\n",
       "      <td>5</td>\n",
       "    </tr>\n",
       "  </tbody>\n",
       "</table>\n",
       "<p>215257 rows × 8 columns</p>\n",
       "</div>"
      ],
      "text/plain": [
       "        SK_ID_CURR  AMT_INCOME_TOTAL  AMT_CREDIT  AMT_ANNUITY  \\\n",
       "208983      342217          202500.0    585000.0      29250.0   \n",
       "71687       183133          112500.0    656811.0      30564.0   \n",
       "301340      449106          144000.0    450000.0      22500.0   \n",
       "216927      351350          450000.0   1483231.5      51687.0   \n",
       "109091      226525          202500.0    454500.0      19255.5   \n",
       "...            ...               ...         ...          ...   \n",
       "21440       124980          292500.0   2013840.0      53253.0   \n",
       "117583      236346          157500.0    599778.0      32665.5   \n",
       "73349       185050          135000.0    270000.0      13500.0   \n",
       "267336      409734          135000.0    781920.0      47835.0   \n",
       "128037      248507          112500.0    315000.0      15448.5   \n",
       "\n",
       "        AMT_GOODS_PRICE  NAME_INCOME_TYPE  HOUR_APPR_PROCESS_START  \\\n",
       "208983         585000.0                 4                       10   \n",
       "71687          567000.0                 3                       11   \n",
       "301340         450000.0                 1                       10   \n",
       "216927        1354500.0                 4                       18   \n",
       "109091         454500.0                 1                        9   \n",
       "...                 ...               ...                      ...   \n",
       "21440         1800000.0                 7                       11   \n",
       "117583         477000.0                 7                        6   \n",
       "73349          270000.0                 1                       12   \n",
       "267336         675000.0                 7                       14   \n",
       "128037         315000.0                 1                       13   \n",
       "\n",
       "        ORGANIZATION_TYPE  \n",
       "208983                 11  \n",
       "71687                  57  \n",
       "301340                  4  \n",
       "216927                 41  \n",
       "109091                  5  \n",
       "...                   ...  \n",
       "21440                  55  \n",
       "117583                 11  \n",
       "73349                   5  \n",
       "267336                 40  \n",
       "128037                  5  \n",
       "\n",
       "[215257 rows x 8 columns]"
      ]
     },
     "execution_count": 35,
     "metadata": {},
     "output_type": "execute_result"
    }
   ],
   "source": [
    "X_train"
   ]
  },
  {
   "cell_type": "code",
   "execution_count": 36,
   "id": "cce58c64",
   "metadata": {
    "execution": {
     "iopub.execute_input": "2022-07-08T04:17:30.817160Z",
     "iopub.status.busy": "2022-07-08T04:17:30.816268Z",
     "iopub.status.idle": "2022-07-08T04:17:30.835660Z",
     "shell.execute_reply": "2022-07-08T04:17:30.834814Z"
    },
    "papermill": {
     "duration": 0.041322,
     "end_time": "2022-07-08T04:17:30.837951",
     "exception": false,
     "start_time": "2022-07-08T04:17:30.796629",
     "status": "completed"
    },
    "tags": []
   },
   "outputs": [
    {
     "data": {
      "text/html": [
       "<div>\n",
       "<style scoped>\n",
       "    .dataframe tbody tr th:only-of-type {\n",
       "        vertical-align: middle;\n",
       "    }\n",
       "\n",
       "    .dataframe tbody tr th {\n",
       "        vertical-align: top;\n",
       "    }\n",
       "\n",
       "    .dataframe thead th {\n",
       "        text-align: right;\n",
       "    }\n",
       "</style>\n",
       "<table border=\"1\" class=\"dataframe\">\n",
       "  <thead>\n",
       "    <tr style=\"text-align: right;\">\n",
       "      <th></th>\n",
       "      <th>SK_ID_CURR</th>\n",
       "      <th>AMT_INCOME_TOTAL</th>\n",
       "      <th>AMT_CREDIT</th>\n",
       "      <th>AMT_ANNUITY</th>\n",
       "      <th>AMT_GOODS_PRICE</th>\n",
       "      <th>NAME_INCOME_TYPE</th>\n",
       "      <th>HOUR_APPR_PROCESS_START</th>\n",
       "      <th>ORGANIZATION_TYPE</th>\n",
       "    </tr>\n",
       "  </thead>\n",
       "  <tbody>\n",
       "    <tr>\n",
       "      <th>64282</th>\n",
       "      <td>174545</td>\n",
       "      <td>135000.0</td>\n",
       "      <td>654498.0</td>\n",
       "      <td>31617.0</td>\n",
       "      <td>585000.0</td>\n",
       "      <td>3</td>\n",
       "      <td>9</td>\n",
       "      <td>57</td>\n",
       "    </tr>\n",
       "    <tr>\n",
       "      <th>94645</th>\n",
       "      <td>209898</td>\n",
       "      <td>135000.0</td>\n",
       "      <td>234576.0</td>\n",
       "      <td>25393.5</td>\n",
       "      <td>202500.0</td>\n",
       "      <td>7</td>\n",
       "      <td>17</td>\n",
       "      <td>11</td>\n",
       "    </tr>\n",
       "    <tr>\n",
       "      <th>306349</th>\n",
       "      <td>454938</td>\n",
       "      <td>112500.0</td>\n",
       "      <td>157914.0</td>\n",
       "      <td>16753.5</td>\n",
       "      <td>139500.0</td>\n",
       "      <td>7</td>\n",
       "      <td>14</td>\n",
       "      <td>33</td>\n",
       "    </tr>\n",
       "    <tr>\n",
       "      <th>258314</th>\n",
       "      <td>398930</td>\n",
       "      <td>247500.0</td>\n",
       "      <td>1125000.0</td>\n",
       "      <td>36292.5</td>\n",
       "      <td>1125000.0</td>\n",
       "      <td>7</td>\n",
       "      <td>16</td>\n",
       "      <td>40</td>\n",
       "    </tr>\n",
       "    <tr>\n",
       "      <th>87597</th>\n",
       "      <td>201672</td>\n",
       "      <td>202500.0</td>\n",
       "      <td>900000.0</td>\n",
       "      <td>35158.5</td>\n",
       "      <td>900000.0</td>\n",
       "      <td>7</td>\n",
       "      <td>8</td>\n",
       "      <td>42</td>\n",
       "    </tr>\n",
       "    <tr>\n",
       "      <th>...</th>\n",
       "      <td>...</td>\n",
       "      <td>...</td>\n",
       "      <td>...</td>\n",
       "      <td>...</td>\n",
       "      <td>...</td>\n",
       "      <td>...</td>\n",
       "      <td>...</td>\n",
       "      <td>...</td>\n",
       "    </tr>\n",
       "    <tr>\n",
       "      <th>98497</th>\n",
       "      <td>214360</td>\n",
       "      <td>81000.0</td>\n",
       "      <td>808650.0</td>\n",
       "      <td>26217.0</td>\n",
       "      <td>675000.0</td>\n",
       "      <td>7</td>\n",
       "      <td>16</td>\n",
       "      <td>40</td>\n",
       "    </tr>\n",
       "    <tr>\n",
       "      <th>205542</th>\n",
       "      <td>338256</td>\n",
       "      <td>99000.0</td>\n",
       "      <td>135000.0</td>\n",
       "      <td>10822.5</td>\n",
       "      <td>135000.0</td>\n",
       "      <td>7</td>\n",
       "      <td>14</td>\n",
       "      <td>42</td>\n",
       "    </tr>\n",
       "    <tr>\n",
       "      <th>127474</th>\n",
       "      <td>247835</td>\n",
       "      <td>157500.0</td>\n",
       "      <td>675000.0</td>\n",
       "      <td>38880.0</td>\n",
       "      <td>675000.0</td>\n",
       "      <td>7</td>\n",
       "      <td>10</td>\n",
       "      <td>42</td>\n",
       "    </tr>\n",
       "    <tr>\n",
       "      <th>46981</th>\n",
       "      <td>154418</td>\n",
       "      <td>112500.0</td>\n",
       "      <td>1006920.0</td>\n",
       "      <td>42790.5</td>\n",
       "      <td>900000.0</td>\n",
       "      <td>3</td>\n",
       "      <td>11</td>\n",
       "      <td>57</td>\n",
       "    </tr>\n",
       "    <tr>\n",
       "      <th>194313</th>\n",
       "      <td>325319</td>\n",
       "      <td>67500.0</td>\n",
       "      <td>104256.0</td>\n",
       "      <td>10287.0</td>\n",
       "      <td>90000.0</td>\n",
       "      <td>3</td>\n",
       "      <td>15</td>\n",
       "      <td>57</td>\n",
       "    </tr>\n",
       "  </tbody>\n",
       "</table>\n",
       "<p>92254 rows × 8 columns</p>\n",
       "</div>"
      ],
      "text/plain": [
       "        SK_ID_CURR  AMT_INCOME_TOTAL  AMT_CREDIT  AMT_ANNUITY  \\\n",
       "64282       174545          135000.0    654498.0      31617.0   \n",
       "94645       209898          135000.0    234576.0      25393.5   \n",
       "306349      454938          112500.0    157914.0      16753.5   \n",
       "258314      398930          247500.0   1125000.0      36292.5   \n",
       "87597       201672          202500.0    900000.0      35158.5   \n",
       "...            ...               ...         ...          ...   \n",
       "98497       214360           81000.0    808650.0      26217.0   \n",
       "205542      338256           99000.0    135000.0      10822.5   \n",
       "127474      247835          157500.0    675000.0      38880.0   \n",
       "46981       154418          112500.0   1006920.0      42790.5   \n",
       "194313      325319           67500.0    104256.0      10287.0   \n",
       "\n",
       "        AMT_GOODS_PRICE  NAME_INCOME_TYPE  HOUR_APPR_PROCESS_START  \\\n",
       "64282          585000.0                 3                        9   \n",
       "94645          202500.0                 7                       17   \n",
       "306349         139500.0                 7                       14   \n",
       "258314        1125000.0                 7                       16   \n",
       "87597          900000.0                 7                        8   \n",
       "...                 ...               ...                      ...   \n",
       "98497          675000.0                 7                       16   \n",
       "205542         135000.0                 7                       14   \n",
       "127474         675000.0                 7                       10   \n",
       "46981          900000.0                 3                       11   \n",
       "194313          90000.0                 3                       15   \n",
       "\n",
       "        ORGANIZATION_TYPE  \n",
       "64282                  57  \n",
       "94645                  11  \n",
       "306349                 33  \n",
       "258314                 40  \n",
       "87597                  42  \n",
       "...                   ...  \n",
       "98497                  40  \n",
       "205542                 42  \n",
       "127474                 42  \n",
       "46981                  57  \n",
       "194313                 57  \n",
       "\n",
       "[92254 rows x 8 columns]"
      ]
     },
     "execution_count": 36,
     "metadata": {},
     "output_type": "execute_result"
    }
   ],
   "source": [
    "X_test"
   ]
  },
  {
   "cell_type": "markdown",
   "id": "1b13df6b",
   "metadata": {
    "papermill": {
     "duration": 0.018389,
     "end_time": "2022-07-08T04:17:30.875061",
     "exception": false,
     "start_time": "2022-07-08T04:17:30.856672",
     "status": "completed"
    },
    "tags": []
   },
   "source": [
    "**Random forest Classifier**"
   ]
  },
  {
   "cell_type": "markdown",
   "id": "cc240b32",
   "metadata": {
    "papermill": {
     "duration": 0.018289,
     "end_time": "2022-07-08T04:17:30.911947",
     "exception": false,
     "start_time": "2022-07-08T04:17:30.893658",
     "status": "completed"
    },
    "tags": []
   },
   "source": [
    "Random forest is a type of Supervised Machine Learning Algorithm that is commonly used in classification and regression problems. It constructs decision trees from various samples and uses their majority vote for classification and average for regression."
   ]
  },
  {
   "cell_type": "code",
   "execution_count": 37,
   "id": "961bba01",
   "metadata": {
    "execution": {
     "iopub.execute_input": "2022-07-08T04:17:30.951618Z",
     "iopub.status.busy": "2022-07-08T04:17:30.950521Z",
     "iopub.status.idle": "2022-07-08T04:17:35.232446Z",
     "shell.execute_reply": "2022-07-08T04:17:35.231295Z"
    },
    "papermill": {
     "duration": 4.304432,
     "end_time": "2022-07-08T04:17:35.234811",
     "exception": false,
     "start_time": "2022-07-08T04:17:30.930379",
     "status": "completed"
    },
    "tags": []
   },
   "outputs": [
    {
     "data": {
      "text/plain": [
       "RandomForestClassifier(n_estimators=10, random_state=0)"
      ]
     },
     "execution_count": 37,
     "metadata": {},
     "output_type": "execute_result"
    }
   ],
   "source": [
    "# Applying random forest Classifier\n",
    "from sklearn.ensemble import RandomForestClassifier\n",
    "rf_Classifier = RandomForestClassifier(n_estimators = 10, random_state = 0)\n",
    "rf_Classifier.fit(X_train, y_train)"
   ]
  },
  {
   "cell_type": "code",
   "execution_count": 38,
   "id": "0da66df6",
   "metadata": {
    "execution": {
     "iopub.execute_input": "2022-07-08T04:17:35.275016Z",
     "iopub.status.busy": "2022-07-08T04:17:35.274231Z",
     "iopub.status.idle": "2022-07-08T04:17:35.634736Z",
     "shell.execute_reply": "2022-07-08T04:17:35.633582Z"
    },
    "papermill": {
     "duration": 0.383344,
     "end_time": "2022-07-08T04:17:35.636943",
     "exception": false,
     "start_time": "2022-07-08T04:17:35.253599",
     "status": "completed"
    },
    "tags": []
   },
   "outputs": [
    {
     "data": {
      "text/plain": [
       "array([0, 0, 0, ..., 0, 0, 0])"
      ]
     },
     "execution_count": 38,
     "metadata": {},
     "output_type": "execute_result"
    }
   ],
   "source": [
    "y_pred = rf_Classifier.predict(X_test)\n",
    "y_pred"
   ]
  },
  {
   "cell_type": "code",
   "execution_count": 39,
   "id": "2cecc3b4",
   "metadata": {
    "execution": {
     "iopub.execute_input": "2022-07-08T04:17:35.677039Z",
     "iopub.status.busy": "2022-07-08T04:17:35.676231Z",
     "iopub.status.idle": "2022-07-08T04:17:35.710674Z",
     "shell.execute_reply": "2022-07-08T04:17:35.709423Z"
    },
    "papermill": {
     "duration": 0.057858,
     "end_time": "2022-07-08T04:17:35.713428",
     "exception": false,
     "start_time": "2022-07-08T04:17:35.655570",
     "status": "completed"
    },
    "tags": []
   },
   "outputs": [
    {
     "name": "stdout",
     "output_type": "stream",
     "text": [
      "[[84506   281]\n",
      " [ 7414    53]]\n"
     ]
    },
    {
     "data": {
      "text/plain": [
       "0.9165889825915408"
      ]
     },
     "execution_count": 39,
     "metadata": {},
     "output_type": "execute_result"
    }
   ],
   "source": [
    "from sklearn.metrics import  confusion_matrix,accuracy_score\n",
    "cm=confusion_matrix(y_test,y_pred)\n",
    "print(cm)\n",
    "accuracy_score(y_test,y_pred)"
   ]
  },
  {
   "cell_type": "code",
   "execution_count": 40,
   "id": "0fe3bb65",
   "metadata": {
    "execution": {
     "iopub.execute_input": "2022-07-08T04:17:35.753667Z",
     "iopub.status.busy": "2022-07-08T04:17:35.753275Z",
     "iopub.status.idle": "2022-07-08T04:17:35.907068Z",
     "shell.execute_reply": "2022-07-08T04:17:35.905323Z"
    },
    "papermill": {
     "duration": 0.176922,
     "end_time": "2022-07-08T04:17:35.909584",
     "exception": false,
     "start_time": "2022-07-08T04:17:35.732662",
     "status": "completed"
    },
    "tags": []
   },
   "outputs": [
    {
     "name": "stdout",
     "output_type": "stream",
     "text": [
      "              precision    recall  f1-score   support\n",
      "\n",
      "           0       0.92      1.00      0.96     84787\n",
      "           1       0.16      0.01      0.01      7467\n",
      "\n",
      "    accuracy                           0.92     92254\n",
      "   macro avg       0.54      0.50      0.49     92254\n",
      "weighted avg       0.86      0.92      0.88     92254\n",
      "\n"
     ]
    }
   ],
   "source": [
    "# Classification Report\n",
    "from sklearn.metrics import classification_report\n",
    "print(classification_report(y_test, y_pred))"
   ]
  },
  {
   "cell_type": "code",
   "execution_count": 41,
   "id": "c78cb901",
   "metadata": {
    "execution": {
     "iopub.execute_input": "2022-07-08T04:17:35.950476Z",
     "iopub.status.busy": "2022-07-08T04:17:35.949592Z",
     "iopub.status.idle": "2022-07-08T04:17:35.969348Z",
     "shell.execute_reply": "2022-07-08T04:17:35.968093Z"
    },
    "papermill": {
     "duration": 0.042922,
     "end_time": "2022-07-08T04:17:35.971807",
     "exception": false,
     "start_time": "2022-07-08T04:17:35.928885",
     "status": "completed"
    },
    "tags": []
   },
   "outputs": [
    {
     "data": {
      "text/html": [
       "<div>\n",
       "<style scoped>\n",
       "    .dataframe tbody tr th:only-of-type {\n",
       "        vertical-align: middle;\n",
       "    }\n",
       "\n",
       "    .dataframe tbody tr th {\n",
       "        vertical-align: top;\n",
       "    }\n",
       "\n",
       "    .dataframe thead th {\n",
       "        text-align: right;\n",
       "    }\n",
       "</style>\n",
       "<table border=\"1\" class=\"dataframe\">\n",
       "  <thead>\n",
       "    <tr style=\"text-align: right;\">\n",
       "      <th></th>\n",
       "      <th>SK_ID_CURR</th>\n",
       "      <th>AMT_INCOME_TOTAL</th>\n",
       "      <th>AMT_CREDIT</th>\n",
       "      <th>AMT_ANNUITY</th>\n",
       "      <th>AMT_GOODS_PRICE</th>\n",
       "      <th>NAME_INCOME_TYPE</th>\n",
       "      <th>HOUR_APPR_PROCESS_START</th>\n",
       "      <th>ORGANIZATION_TYPE</th>\n",
       "    </tr>\n",
       "  </thead>\n",
       "  <tbody>\n",
       "    <tr>\n",
       "      <th>64282</th>\n",
       "      <td>174545</td>\n",
       "      <td>135000.0</td>\n",
       "      <td>654498.0</td>\n",
       "      <td>31617.0</td>\n",
       "      <td>585000.0</td>\n",
       "      <td>3</td>\n",
       "      <td>9</td>\n",
       "      <td>57</td>\n",
       "    </tr>\n",
       "    <tr>\n",
       "      <th>94645</th>\n",
       "      <td>209898</td>\n",
       "      <td>135000.0</td>\n",
       "      <td>234576.0</td>\n",
       "      <td>25393.5</td>\n",
       "      <td>202500.0</td>\n",
       "      <td>7</td>\n",
       "      <td>17</td>\n",
       "      <td>11</td>\n",
       "    </tr>\n",
       "    <tr>\n",
       "      <th>306349</th>\n",
       "      <td>454938</td>\n",
       "      <td>112500.0</td>\n",
       "      <td>157914.0</td>\n",
       "      <td>16753.5</td>\n",
       "      <td>139500.0</td>\n",
       "      <td>7</td>\n",
       "      <td>14</td>\n",
       "      <td>33</td>\n",
       "    </tr>\n",
       "    <tr>\n",
       "      <th>258314</th>\n",
       "      <td>398930</td>\n",
       "      <td>247500.0</td>\n",
       "      <td>1125000.0</td>\n",
       "      <td>36292.5</td>\n",
       "      <td>1125000.0</td>\n",
       "      <td>7</td>\n",
       "      <td>16</td>\n",
       "      <td>40</td>\n",
       "    </tr>\n",
       "    <tr>\n",
       "      <th>87597</th>\n",
       "      <td>201672</td>\n",
       "      <td>202500.0</td>\n",
       "      <td>900000.0</td>\n",
       "      <td>35158.5</td>\n",
       "      <td>900000.0</td>\n",
       "      <td>7</td>\n",
       "      <td>8</td>\n",
       "      <td>42</td>\n",
       "    </tr>\n",
       "    <tr>\n",
       "      <th>...</th>\n",
       "      <td>...</td>\n",
       "      <td>...</td>\n",
       "      <td>...</td>\n",
       "      <td>...</td>\n",
       "      <td>...</td>\n",
       "      <td>...</td>\n",
       "      <td>...</td>\n",
       "      <td>...</td>\n",
       "    </tr>\n",
       "    <tr>\n",
       "      <th>98497</th>\n",
       "      <td>214360</td>\n",
       "      <td>81000.0</td>\n",
       "      <td>808650.0</td>\n",
       "      <td>26217.0</td>\n",
       "      <td>675000.0</td>\n",
       "      <td>7</td>\n",
       "      <td>16</td>\n",
       "      <td>40</td>\n",
       "    </tr>\n",
       "    <tr>\n",
       "      <th>205542</th>\n",
       "      <td>338256</td>\n",
       "      <td>99000.0</td>\n",
       "      <td>135000.0</td>\n",
       "      <td>10822.5</td>\n",
       "      <td>135000.0</td>\n",
       "      <td>7</td>\n",
       "      <td>14</td>\n",
       "      <td>42</td>\n",
       "    </tr>\n",
       "    <tr>\n",
       "      <th>127474</th>\n",
       "      <td>247835</td>\n",
       "      <td>157500.0</td>\n",
       "      <td>675000.0</td>\n",
       "      <td>38880.0</td>\n",
       "      <td>675000.0</td>\n",
       "      <td>7</td>\n",
       "      <td>10</td>\n",
       "      <td>42</td>\n",
       "    </tr>\n",
       "    <tr>\n",
       "      <th>46981</th>\n",
       "      <td>154418</td>\n",
       "      <td>112500.0</td>\n",
       "      <td>1006920.0</td>\n",
       "      <td>42790.5</td>\n",
       "      <td>900000.0</td>\n",
       "      <td>3</td>\n",
       "      <td>11</td>\n",
       "      <td>57</td>\n",
       "    </tr>\n",
       "    <tr>\n",
       "      <th>194313</th>\n",
       "      <td>325319</td>\n",
       "      <td>67500.0</td>\n",
       "      <td>104256.0</td>\n",
       "      <td>10287.0</td>\n",
       "      <td>90000.0</td>\n",
       "      <td>3</td>\n",
       "      <td>15</td>\n",
       "      <td>57</td>\n",
       "    </tr>\n",
       "  </tbody>\n",
       "</table>\n",
       "<p>92254 rows × 8 columns</p>\n",
       "</div>"
      ],
      "text/plain": [
       "        SK_ID_CURR  AMT_INCOME_TOTAL  AMT_CREDIT  AMT_ANNUITY  \\\n",
       "64282       174545          135000.0    654498.0      31617.0   \n",
       "94645       209898          135000.0    234576.0      25393.5   \n",
       "306349      454938          112500.0    157914.0      16753.5   \n",
       "258314      398930          247500.0   1125000.0      36292.5   \n",
       "87597       201672          202500.0    900000.0      35158.5   \n",
       "...            ...               ...         ...          ...   \n",
       "98497       214360           81000.0    808650.0      26217.0   \n",
       "205542      338256           99000.0    135000.0      10822.5   \n",
       "127474      247835          157500.0    675000.0      38880.0   \n",
       "46981       154418          112500.0   1006920.0      42790.5   \n",
       "194313      325319           67500.0    104256.0      10287.0   \n",
       "\n",
       "        AMT_GOODS_PRICE  NAME_INCOME_TYPE  HOUR_APPR_PROCESS_START  \\\n",
       "64282          585000.0                 3                        9   \n",
       "94645          202500.0                 7                       17   \n",
       "306349         139500.0                 7                       14   \n",
       "258314        1125000.0                 7                       16   \n",
       "87597          900000.0                 7                        8   \n",
       "...                 ...               ...                      ...   \n",
       "98497          675000.0                 7                       16   \n",
       "205542         135000.0                 7                       14   \n",
       "127474         675000.0                 7                       10   \n",
       "46981          900000.0                 3                       11   \n",
       "194313          90000.0                 3                       15   \n",
       "\n",
       "        ORGANIZATION_TYPE  \n",
       "64282                  57  \n",
       "94645                  11  \n",
       "306349                 33  \n",
       "258314                 40  \n",
       "87597                  42  \n",
       "...                   ...  \n",
       "98497                  40  \n",
       "205542                 42  \n",
       "127474                 42  \n",
       "46981                  57  \n",
       "194313                 57  \n",
       "\n",
       "[92254 rows x 8 columns]"
      ]
     },
     "execution_count": 41,
     "metadata": {},
     "output_type": "execute_result"
    }
   ],
   "source": [
    "X_test"
   ]
  },
  {
   "cell_type": "code",
   "execution_count": 42,
   "id": "3d52328e",
   "metadata": {
    "execution": {
     "iopub.execute_input": "2022-07-08T04:17:36.012380Z",
     "iopub.status.busy": "2022-07-08T04:17:36.011972Z",
     "iopub.status.idle": "2022-07-08T04:17:36.024496Z",
     "shell.execute_reply": "2022-07-08T04:17:36.023385Z"
    },
    "papermill": {
     "duration": 0.035618,
     "end_time": "2022-07-08T04:17:36.026944",
     "exception": false,
     "start_time": "2022-07-08T04:17:35.991326",
     "status": "completed"
    },
    "tags": []
   },
   "outputs": [
    {
     "name": "stderr",
     "output_type": "stream",
     "text": [
      "/opt/conda/lib/python3.7/site-packages/sklearn/base.py:451: UserWarning: X does not have valid feature names, but RandomForestClassifier was fitted with feature names\n",
      "  \"X does not have valid feature names, but\"\n"
     ]
    },
    {
     "data": {
      "text/plain": [
       "array([0])"
      ]
     },
     "execution_count": 42,
     "metadata": {},
     "output_type": "execute_result"
    }
   ],
   "source": [
    "result = rf_Classifier.predict(np.array([[454938,192500.0,157914.0,15753.5,139500.0,3,15,33]]))\n",
    "result\n"
   ]
  },
  {
   "cell_type": "code",
   "execution_count": null,
   "id": "a8c68f19",
   "metadata": {
    "papermill": {
     "duration": 0.019066,
     "end_time": "2022-07-08T04:17:36.066038",
     "exception": false,
     "start_time": "2022-07-08T04:17:36.046972",
     "status": "completed"
    },
    "tags": []
   },
   "outputs": [],
   "source": []
  }
 ],
 "metadata": {
  "kernelspec": {
   "display_name": "Python 3",
   "language": "python",
   "name": "python3"
  },
  "language_info": {
   "codemirror_mode": {
    "name": "ipython",
    "version": 3
   },
   "file_extension": ".py",
   "mimetype": "text/x-python",
   "name": "python",
   "nbconvert_exporter": "python",
   "pygments_lexer": "ipython3",
   "version": "3.7.12"
  },
  "papermill": {
   "default_parameters": {},
   "duration": 40.901012,
   "end_time": "2022-07-08T04:17:37.108533",
   "environment_variables": {},
   "exception": null,
   "input_path": "__notebook__.ipynb",
   "output_path": "__notebook__.ipynb",
   "parameters": {},
   "start_time": "2022-07-08T04:16:56.207521",
   "version": "2.3.4"
  }
 },
 "nbformat": 4,
 "nbformat_minor": 5
}
